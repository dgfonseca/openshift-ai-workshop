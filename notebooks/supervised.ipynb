{
 "cells": [
  {
   "cell_type": "code",
   "execution_count": null,
   "metadata": {},
   "outputs": [],
   "source": [
    "!pip install seaborn\n",
    "!pip install imblearn\n",
    "!pip install boto3"
   ]
  },
  {
   "cell_type": "markdown",
   "metadata": {
    "id": "IniSekY9qZRt"
   },
   "source": [
    "# Imports"
   ]
  },
  {
   "cell_type": "code",
   "execution_count": 176,
   "metadata": {
    "id": "4flve95UqZRv",
    "tags": []
   },
   "outputs": [],
   "source": [
    "import pandas as pd\n",
    "import numpy as np\n",
    "import matplotlib.pyplot as plt\n",
    "import seaborn as sns\n",
    "import matplotlib.pyplot as plt\n",
    "import joblib\n",
    "import boto3, os\n",
    "\n",
    "\n",
    "BUCKET = os.getenv(\"AWS_S3_BUCKET\")\n",
    "HTTP = 'http://'\n",
    "AWS_ACCESS_KEY_ID = os.getenv(\"AWS_ACCESS_KEY_ID\")\n",
    "AWS_SECRET_ACCESS_KEY = os.getenv(\"AWS_SECRET_ACCESS_KEY\")\n",
    "REGIONNAME = os.getenv(\"AWS_DEFAULT_REGION\")\n",
    "AWS_S3_ENDPOINT = os.getenv(\"AWS_S3_ENDPOINT\")\n"
   ]
  },
  {
   "cell_type": "markdown",
   "metadata": {
    "id": "HJ7pIoe2qZRw"
   },
   "source": [
    "# Lectura de los datos"
   ]
  },
  {
   "cell_type": "code",
   "execution_count": 177,
   "metadata": {
    "id": "KVJM1HugqZRx",
    "outputId": "eac32575-ce3c-460c-878c-bd32d95d8582"
   },
   "outputs": [
    {
     "name": "stderr",
     "output_type": "stream",
     "text": [
      "/var/folders/x_/c7lz775j7fs6dgdjn5h_dn440000gn/T/ipykernel_44858/4079582392.py:1: DtypeWarning: Columns (1,3,47) have mixed types. Specify dtype option on import or set low_memory=False.\n",
      "  data_set = pd.read_csv('../data/UNSW-NB15_1.csv', sep=',', encoding='utf-8', names=['srip', 'sport', 'dstip', 'dsport', 'proto', 'state', 'dur', 'sbytes', 'dbytes', 'sttl', 'dttl', 'sloss', 'dloss', 'service', 'sload', 'dload', 'spkts', 'dpkts', 'swin', 'dwin', 'stcpb', 'dtcpb', 'smean', 'dmean', 'trans_depth', 'response_body_len', 'sjit', 'djit', 'stime', 'ltime', 'sinpkt', 'dinpkt', 'tcprtt', 'synack', 'ackdat', 'is_sm_ips_ports', 'ct_state_ttl', 'ct_flw_http_mthd', 'is_ftp_login', 'ct_ftp_cmd', 'ct_srv_src', 'ct_srv_dst', 'ct_dst_ltm', 'ct_src_ltm', 'ct_src_dport_ltm', 'st_dst_sport_ltm', 'ct_dst_src_ltm', 'attack_cat', 'label'])\n"
     ]
    }
   ],
   "source": [
    "s3 = boto3.resource('s3',endpoint_url = AWS_S3_ENDPOINT +\":9000\",aws_access_key_id=AWS_ACCESS_KEY_ID,aws_secret_access_key=AWS_SECRET_ACCESS_KEY)\n",
    "s3.Bucket('model-data').download_file('UNSW-NB15_1.csv','./data/UNSW-NB15_1.csv')\n",
    "\n",
    "data_set = pd.read_csv('./data/UNSW-NB15_1.csv', sep=',', encoding='utf-8', names=['srip', 'sport', 'dstip', 'dsport', 'proto', 'state', 'dur', 'sbytes', 'dbytes', 'sttl', 'dttl', 'sloss', 'dloss', 'service', 'Sload', 'Dload', 'Spkts', 'Dpkts', 'swin', 'dwin', 'stcpb', 'dtcpb', 'smeansz', 'dmeanzs', 'trans_depth', 'res_bdy_len', 'sjit', 'djit', 'Stime', 'Ltime', 'Sintpkt', 'Dintpkt', 'tcprtt', 'synack', 'ackdat', 'is_sm_ips_ports', 'ct_state_ttl', 'ct_flw_http_mthd', 'is_ftp_login', 'ct_ftp_cmd', 'ct_srv_src', 'ct_srv_dst', 'ct_dst_ltm', 'ct_src_ltm', 'ct_src_dport_ltm', 'st_dst_sport_ltm', 'ct_dst_src_ltm', 'attack_cat', 'label'],low_memory=False)"
   ]
  },
  {
   "cell_type": "code",
   "execution_count": 178,
   "metadata": {
    "id": "H7eutbiAqZRx",
    "outputId": "ed385793-61a5-40c8-a3ed-f797fd36ea99"
   },
   "outputs": [
    {
     "data": {
      "text/plain": [
       "(700001, 49)"
      ]
     },
     "execution_count": 178,
     "metadata": {},
     "output_type": "execute_result"
    }
   ],
   "source": [
    "data_set.shape"
   ]
  },
  {
   "cell_type": "code",
   "execution_count": 179,
   "metadata": {
    "id": "k9j7ocvLqZRy",
    "outputId": "e771f983-6479-42e6-bbd6-bca38c89c0fc",
    "scrolled": true
   },
   "outputs": [
    {
     "data": {
      "text/html": [
       "<div>\n",
       "<style scoped>\n",
       "    .dataframe tbody tr th:only-of-type {\n",
       "        vertical-align: middle;\n",
       "    }\n",
       "\n",
       "    .dataframe tbody tr th {\n",
       "        vertical-align: top;\n",
       "    }\n",
       "\n",
       "    .dataframe thead th {\n",
       "        text-align: right;\n",
       "    }\n",
       "</style>\n",
       "<table border=\"1\" class=\"dataframe\">\n",
       "  <thead>\n",
       "    <tr style=\"text-align: right;\">\n",
       "      <th></th>\n",
       "      <th>srip</th>\n",
       "      <th>sport</th>\n",
       "      <th>dstip</th>\n",
       "      <th>dsport</th>\n",
       "      <th>proto</th>\n",
       "      <th>state</th>\n",
       "      <th>dur</th>\n",
       "      <th>sbytes</th>\n",
       "      <th>dbytes</th>\n",
       "      <th>sttl</th>\n",
       "      <th>...</th>\n",
       "      <th>ct_ftp_cmd</th>\n",
       "      <th>ct_srv_src</th>\n",
       "      <th>ct_srv_dst</th>\n",
       "      <th>ct_dst_ltm</th>\n",
       "      <th>ct_src_ltm</th>\n",
       "      <th>ct_src_dport_ltm</th>\n",
       "      <th>st_dst_sport_ltm</th>\n",
       "      <th>ct_dst_src_ltm</th>\n",
       "      <th>attack_cat</th>\n",
       "      <th>label</th>\n",
       "    </tr>\n",
       "  </thead>\n",
       "  <tbody>\n",
       "    <tr>\n",
       "      <th>0</th>\n",
       "      <td>59.166.0.0</td>\n",
       "      <td>1390</td>\n",
       "      <td>149.171.126.6</td>\n",
       "      <td>53</td>\n",
       "      <td>udp</td>\n",
       "      <td>CON</td>\n",
       "      <td>0.001055</td>\n",
       "      <td>132</td>\n",
       "      <td>164</td>\n",
       "      <td>31</td>\n",
       "      <td>...</td>\n",
       "      <td>0</td>\n",
       "      <td>3</td>\n",
       "      <td>7</td>\n",
       "      <td>1</td>\n",
       "      <td>3</td>\n",
       "      <td>1</td>\n",
       "      <td>1</td>\n",
       "      <td>1</td>\n",
       "      <td>NaN</td>\n",
       "      <td>0</td>\n",
       "    </tr>\n",
       "    <tr>\n",
       "      <th>1</th>\n",
       "      <td>59.166.0.0</td>\n",
       "      <td>33661</td>\n",
       "      <td>149.171.126.9</td>\n",
       "      <td>1024</td>\n",
       "      <td>udp</td>\n",
       "      <td>CON</td>\n",
       "      <td>0.036133</td>\n",
       "      <td>528</td>\n",
       "      <td>304</td>\n",
       "      <td>31</td>\n",
       "      <td>...</td>\n",
       "      <td>0</td>\n",
       "      <td>2</td>\n",
       "      <td>4</td>\n",
       "      <td>2</td>\n",
       "      <td>3</td>\n",
       "      <td>1</td>\n",
       "      <td>1</td>\n",
       "      <td>2</td>\n",
       "      <td>NaN</td>\n",
       "      <td>0</td>\n",
       "    </tr>\n",
       "    <tr>\n",
       "      <th>2</th>\n",
       "      <td>59.166.0.6</td>\n",
       "      <td>1464</td>\n",
       "      <td>149.171.126.7</td>\n",
       "      <td>53</td>\n",
       "      <td>udp</td>\n",
       "      <td>CON</td>\n",
       "      <td>0.001119</td>\n",
       "      <td>146</td>\n",
       "      <td>178</td>\n",
       "      <td>31</td>\n",
       "      <td>...</td>\n",
       "      <td>0</td>\n",
       "      <td>12</td>\n",
       "      <td>8</td>\n",
       "      <td>1</td>\n",
       "      <td>2</td>\n",
       "      <td>2</td>\n",
       "      <td>1</td>\n",
       "      <td>1</td>\n",
       "      <td>NaN</td>\n",
       "      <td>0</td>\n",
       "    </tr>\n",
       "    <tr>\n",
       "      <th>3</th>\n",
       "      <td>59.166.0.5</td>\n",
       "      <td>3593</td>\n",
       "      <td>149.171.126.5</td>\n",
       "      <td>53</td>\n",
       "      <td>udp</td>\n",
       "      <td>CON</td>\n",
       "      <td>0.001209</td>\n",
       "      <td>132</td>\n",
       "      <td>164</td>\n",
       "      <td>31</td>\n",
       "      <td>...</td>\n",
       "      <td>0</td>\n",
       "      <td>6</td>\n",
       "      <td>9</td>\n",
       "      <td>1</td>\n",
       "      <td>1</td>\n",
       "      <td>1</td>\n",
       "      <td>1</td>\n",
       "      <td>1</td>\n",
       "      <td>NaN</td>\n",
       "      <td>0</td>\n",
       "    </tr>\n",
       "    <tr>\n",
       "      <th>4</th>\n",
       "      <td>59.166.0.3</td>\n",
       "      <td>49664</td>\n",
       "      <td>149.171.126.0</td>\n",
       "      <td>53</td>\n",
       "      <td>udp</td>\n",
       "      <td>CON</td>\n",
       "      <td>0.001169</td>\n",
       "      <td>146</td>\n",
       "      <td>178</td>\n",
       "      <td>31</td>\n",
       "      <td>...</td>\n",
       "      <td>0</td>\n",
       "      <td>7</td>\n",
       "      <td>9</td>\n",
       "      <td>1</td>\n",
       "      <td>1</td>\n",
       "      <td>1</td>\n",
       "      <td>1</td>\n",
       "      <td>1</td>\n",
       "      <td>NaN</td>\n",
       "      <td>0</td>\n",
       "    </tr>\n",
       "  </tbody>\n",
       "</table>\n",
       "<p>5 rows × 49 columns</p>\n",
       "</div>"
      ],
      "text/plain": [
       "         srip  sport          dstip dsport proto state       dur  sbytes  \\\n",
       "0  59.166.0.0   1390  149.171.126.6     53   udp   CON  0.001055     132   \n",
       "1  59.166.0.0  33661  149.171.126.9   1024   udp   CON  0.036133     528   \n",
       "2  59.166.0.6   1464  149.171.126.7     53   udp   CON  0.001119     146   \n",
       "3  59.166.0.5   3593  149.171.126.5     53   udp   CON  0.001209     132   \n",
       "4  59.166.0.3  49664  149.171.126.0     53   udp   CON  0.001169     146   \n",
       "\n",
       "   dbytes  sttl  ...  ct_ftp_cmd  ct_srv_src  ct_srv_dst ct_dst_ltm  \\\n",
       "0     164    31  ...           0           3           7          1   \n",
       "1     304    31  ...           0           2           4          2   \n",
       "2     178    31  ...           0          12           8          1   \n",
       "3     164    31  ...           0           6           9          1   \n",
       "4     178    31  ...           0           7           9          1   \n",
       "\n",
       "   ct_src_ltm  ct_src_dport_ltm  st_dst_sport_ltm  ct_dst_src_ltm  attack_cat  \\\n",
       "0           3                 1                 1               1         NaN   \n",
       "1           3                 1                 1               2         NaN   \n",
       "2           2                 2                 1               1         NaN   \n",
       "3           1                 1                 1               1         NaN   \n",
       "4           1                 1                 1               1         NaN   \n",
       "\n",
       "   label  \n",
       "0      0  \n",
       "1      0  \n",
       "2      0  \n",
       "3      0  \n",
       "4      0  \n",
       "\n",
       "[5 rows x 49 columns]"
      ]
     },
     "execution_count": 179,
     "metadata": {},
     "output_type": "execute_result"
    }
   ],
   "source": [
    "data_set.head()"
   ]
  },
  {
   "cell_type": "markdown",
   "metadata": {
    "id": "q_hpbpeBqZRy"
   },
   "source": [
    "# Perfilamiento de los datos"
   ]
  },
  {
   "cell_type": "code",
   "execution_count": 180,
   "metadata": {
    "id": "ab5PFBP_qZRz",
    "outputId": "4481ef6b-30f9-43a6-c8e6-bd2288085019",
    "scrolled": true
   },
   "outputs": [
    {
     "data": {
      "text/html": [
       "<div>\n",
       "<style scoped>\n",
       "    .dataframe tbody tr th:only-of-type {\n",
       "        vertical-align: middle;\n",
       "    }\n",
       "\n",
       "    .dataframe tbody tr th {\n",
       "        vertical-align: top;\n",
       "    }\n",
       "\n",
       "    .dataframe thead th {\n",
       "        text-align: right;\n",
       "    }\n",
       "</style>\n",
       "<table border=\"1\" class=\"dataframe\">\n",
       "  <thead>\n",
       "    <tr style=\"text-align: right;\">\n",
       "      <th></th>\n",
       "      <th>dur</th>\n",
       "      <th>sbytes</th>\n",
       "      <th>dbytes</th>\n",
       "      <th>sttl</th>\n",
       "      <th>dttl</th>\n",
       "      <th>sloss</th>\n",
       "      <th>dloss</th>\n",
       "      <th>sload</th>\n",
       "      <th>dload</th>\n",
       "      <th>spkts</th>\n",
       "      <th>...</th>\n",
       "      <th>is_ftp_login</th>\n",
       "      <th>ct_ftp_cmd</th>\n",
       "      <th>ct_srv_src</th>\n",
       "      <th>ct_srv_dst</th>\n",
       "      <th>ct_dst_ltm</th>\n",
       "      <th>ct_src_ltm</th>\n",
       "      <th>ct_src_dport_ltm</th>\n",
       "      <th>st_dst_sport_ltm</th>\n",
       "      <th>ct_dst_src_ltm</th>\n",
       "      <th>label</th>\n",
       "    </tr>\n",
       "  </thead>\n",
       "  <tbody>\n",
       "    <tr>\n",
       "      <th>count</th>\n",
       "      <td>700001.000000</td>\n",
       "      <td>7.000010e+05</td>\n",
       "      <td>7.000010e+05</td>\n",
       "      <td>700001.000000</td>\n",
       "      <td>700001.000000</td>\n",
       "      <td>700001.000000</td>\n",
       "      <td>700001.000000</td>\n",
       "      <td>7.000010e+05</td>\n",
       "      <td>7.000010e+05</td>\n",
       "      <td>700001.000000</td>\n",
       "      <td>...</td>\n",
       "      <td>700001.000000</td>\n",
       "      <td>700001.000000</td>\n",
       "      <td>700001.000000</td>\n",
       "      <td>700001.000000</td>\n",
       "      <td>700001.000000</td>\n",
       "      <td>700001.000000</td>\n",
       "      <td>700001.000000</td>\n",
       "      <td>700001.000000</td>\n",
       "      <td>700001.000000</td>\n",
       "      <td>700001.000000</td>\n",
       "    </tr>\n",
       "    <tr>\n",
       "      <th>mean</th>\n",
       "      <td>0.863391</td>\n",
       "      <td>5.009637e+03</td>\n",
       "      <td>4.833038e+04</td>\n",
       "      <td>38.513848</td>\n",
       "      <td>31.980783</td>\n",
       "      <td>6.330444</td>\n",
       "      <td>21.326271</td>\n",
       "      <td>6.024271e+06</td>\n",
       "      <td>3.011023e+06</td>\n",
       "      <td>41.746643</td>\n",
       "      <td>...</td>\n",
       "      <td>0.019623</td>\n",
       "      <td>0.031116</td>\n",
       "      <td>6.380239</td>\n",
       "      <td>6.034169</td>\n",
       "      <td>4.153233</td>\n",
       "      <td>4.668593</td>\n",
       "      <td>1.685498</td>\n",
       "      <td>1.401911</td>\n",
       "      <td>2.188105</td>\n",
       "      <td>0.031736</td>\n",
       "    </tr>\n",
       "    <tr>\n",
       "      <th>std</th>\n",
       "      <td>25.935765</td>\n",
       "      <td>4.489868e+04</td>\n",
       "      <td>1.860516e+05</td>\n",
       "      <td>39.996956</td>\n",
       "      <td>30.450757</td>\n",
       "      <td>18.855979</td>\n",
       "      <td>64.733376</td>\n",
       "      <td>5.181492e+07</td>\n",
       "      <td>4.499952e+06</td>\n",
       "      <td>80.198729</td>\n",
       "      <td>...</td>\n",
       "      <td>0.138700</td>\n",
       "      <td>0.278212</td>\n",
       "      <td>5.075147</td>\n",
       "      <td>4.635608</td>\n",
       "      <td>3.740439</td>\n",
       "      <td>4.189667</td>\n",
       "      <td>1.871052</td>\n",
       "      <td>1.426013</td>\n",
       "      <td>2.211199</td>\n",
       "      <td>0.175296</td>\n",
       "    </tr>\n",
       "    <tr>\n",
       "      <th>min</th>\n",
       "      <td>0.000000</td>\n",
       "      <td>0.000000e+00</td>\n",
       "      <td>0.000000e+00</td>\n",
       "      <td>0.000000</td>\n",
       "      <td>0.000000</td>\n",
       "      <td>0.000000</td>\n",
       "      <td>0.000000</td>\n",
       "      <td>0.000000e+00</td>\n",
       "      <td>0.000000e+00</td>\n",
       "      <td>0.000000</td>\n",
       "      <td>...</td>\n",
       "      <td>0.000000</td>\n",
       "      <td>0.000000</td>\n",
       "      <td>1.000000</td>\n",
       "      <td>1.000000</td>\n",
       "      <td>1.000000</td>\n",
       "      <td>1.000000</td>\n",
       "      <td>1.000000</td>\n",
       "      <td>1.000000</td>\n",
       "      <td>1.000000</td>\n",
       "      <td>0.000000</td>\n",
       "    </tr>\n",
       "    <tr>\n",
       "      <th>25%</th>\n",
       "      <td>0.003931</td>\n",
       "      <td>4.240000e+02</td>\n",
       "      <td>3.040000e+02</td>\n",
       "      <td>31.000000</td>\n",
       "      <td>29.000000</td>\n",
       "      <td>0.000000</td>\n",
       "      <td>0.000000</td>\n",
       "      <td>7.885915e+04</td>\n",
       "      <td>7.640437e+04</td>\n",
       "      <td>4.000000</td>\n",
       "      <td>...</td>\n",
       "      <td>0.000000</td>\n",
       "      <td>0.000000</td>\n",
       "      <td>2.000000</td>\n",
       "      <td>2.000000</td>\n",
       "      <td>2.000000</td>\n",
       "      <td>2.000000</td>\n",
       "      <td>1.000000</td>\n",
       "      <td>1.000000</td>\n",
       "      <td>1.000000</td>\n",
       "      <td>0.000000</td>\n",
       "    </tr>\n",
       "    <tr>\n",
       "      <th>50%</th>\n",
       "      <td>0.027594</td>\n",
       "      <td>2.024000e+03</td>\n",
       "      <td>3.380000e+03</td>\n",
       "      <td>31.000000</td>\n",
       "      <td>29.000000</td>\n",
       "      <td>4.000000</td>\n",
       "      <td>5.000000</td>\n",
       "      <td>5.362718e+05</td>\n",
       "      <td>6.686759e+05</td>\n",
       "      <td>16.000000</td>\n",
       "      <td>...</td>\n",
       "      <td>0.000000</td>\n",
       "      <td>0.000000</td>\n",
       "      <td>5.000000</td>\n",
       "      <td>5.000000</td>\n",
       "      <td>3.000000</td>\n",
       "      <td>4.000000</td>\n",
       "      <td>1.000000</td>\n",
       "      <td>1.000000</td>\n",
       "      <td>1.000000</td>\n",
       "      <td>0.000000</td>\n",
       "    </tr>\n",
       "    <tr>\n",
       "      <th>75%</th>\n",
       "      <td>0.346518</td>\n",
       "      <td>3.806000e+03</td>\n",
       "      <td>2.243200e+04</td>\n",
       "      <td>31.000000</td>\n",
       "      <td>29.000000</td>\n",
       "      <td>7.000000</td>\n",
       "      <td>16.000000</td>\n",
       "      <td>1.078489e+06</td>\n",
       "      <td>3.856223e+06</td>\n",
       "      <td>52.000000</td>\n",
       "      <td>...</td>\n",
       "      <td>0.000000</td>\n",
       "      <td>0.000000</td>\n",
       "      <td>9.000000</td>\n",
       "      <td>8.000000</td>\n",
       "      <td>5.000000</td>\n",
       "      <td>6.000000</td>\n",
       "      <td>2.000000</td>\n",
       "      <td>1.000000</td>\n",
       "      <td>3.000000</td>\n",
       "      <td>0.000000</td>\n",
       "    </tr>\n",
       "    <tr>\n",
       "      <th>max</th>\n",
       "      <td>8786.637695</td>\n",
       "      <td>1.367739e+07</td>\n",
       "      <td>1.465542e+07</td>\n",
       "      <td>255.000000</td>\n",
       "      <td>254.000000</td>\n",
       "      <td>5096.000000</td>\n",
       "      <td>5483.000000</td>\n",
       "      <td>5.268000e+09</td>\n",
       "      <td>1.287619e+08</td>\n",
       "      <td>10200.000000</td>\n",
       "      <td>...</td>\n",
       "      <td>1.000000</td>\n",
       "      <td>8.000000</td>\n",
       "      <td>44.000000</td>\n",
       "      <td>42.000000</td>\n",
       "      <td>42.000000</td>\n",
       "      <td>50.000000</td>\n",
       "      <td>36.000000</td>\n",
       "      <td>34.000000</td>\n",
       "      <td>38.000000</td>\n",
       "      <td>1.000000</td>\n",
       "    </tr>\n",
       "  </tbody>\n",
       "</table>\n",
       "<p>8 rows × 41 columns</p>\n",
       "</div>"
      ],
      "text/plain": [
       "                 dur        sbytes        dbytes           sttl  \\\n",
       "count  700001.000000  7.000010e+05  7.000010e+05  700001.000000   \n",
       "mean        0.863391  5.009637e+03  4.833038e+04      38.513848   \n",
       "std        25.935765  4.489868e+04  1.860516e+05      39.996956   \n",
       "min         0.000000  0.000000e+00  0.000000e+00       0.000000   \n",
       "25%         0.003931  4.240000e+02  3.040000e+02      31.000000   \n",
       "50%         0.027594  2.024000e+03  3.380000e+03      31.000000   \n",
       "75%         0.346518  3.806000e+03  2.243200e+04      31.000000   \n",
       "max      8786.637695  1.367739e+07  1.465542e+07     255.000000   \n",
       "\n",
       "                dttl          sloss          dloss         sload  \\\n",
       "count  700001.000000  700001.000000  700001.000000  7.000010e+05   \n",
       "mean       31.980783       6.330444      21.326271  6.024271e+06   \n",
       "std        30.450757      18.855979      64.733376  5.181492e+07   \n",
       "min         0.000000       0.000000       0.000000  0.000000e+00   \n",
       "25%        29.000000       0.000000       0.000000  7.885915e+04   \n",
       "50%        29.000000       4.000000       5.000000  5.362718e+05   \n",
       "75%        29.000000       7.000000      16.000000  1.078489e+06   \n",
       "max       254.000000    5096.000000    5483.000000  5.268000e+09   \n",
       "\n",
       "              dload          spkts  ...   is_ftp_login     ct_ftp_cmd  \\\n",
       "count  7.000010e+05  700001.000000  ...  700001.000000  700001.000000   \n",
       "mean   3.011023e+06      41.746643  ...       0.019623       0.031116   \n",
       "std    4.499952e+06      80.198729  ...       0.138700       0.278212   \n",
       "min    0.000000e+00       0.000000  ...       0.000000       0.000000   \n",
       "25%    7.640437e+04       4.000000  ...       0.000000       0.000000   \n",
       "50%    6.686759e+05      16.000000  ...       0.000000       0.000000   \n",
       "75%    3.856223e+06      52.000000  ...       0.000000       0.000000   \n",
       "max    1.287619e+08   10200.000000  ...       1.000000       8.000000   \n",
       "\n",
       "          ct_srv_src     ct_srv_dst     ct_dst_ltm     ct_src_ltm  \\\n",
       "count  700001.000000  700001.000000  700001.000000  700001.000000   \n",
       "mean        6.380239       6.034169       4.153233       4.668593   \n",
       "std         5.075147       4.635608       3.740439       4.189667   \n",
       "min         1.000000       1.000000       1.000000       1.000000   \n",
       "25%         2.000000       2.000000       2.000000       2.000000   \n",
       "50%         5.000000       5.000000       3.000000       4.000000   \n",
       "75%         9.000000       8.000000       5.000000       6.000000   \n",
       "max        44.000000      42.000000      42.000000      50.000000   \n",
       "\n",
       "       ct_src_dport_ltm  st_dst_sport_ltm  ct_dst_src_ltm          label  \n",
       "count     700001.000000     700001.000000   700001.000000  700001.000000  \n",
       "mean           1.685498          1.401911        2.188105       0.031736  \n",
       "std            1.871052          1.426013        2.211199       0.175296  \n",
       "min            1.000000          1.000000        1.000000       0.000000  \n",
       "25%            1.000000          1.000000        1.000000       0.000000  \n",
       "50%            1.000000          1.000000        1.000000       0.000000  \n",
       "75%            2.000000          1.000000        3.000000       0.000000  \n",
       "max           36.000000         34.000000       38.000000       1.000000  \n",
       "\n",
       "[8 rows x 41 columns]"
      ]
     },
     "execution_count": 180,
     "metadata": {},
     "output_type": "execute_result"
    }
   ],
   "source": [
    "data_set.describe()"
   ]
  },
  {
   "cell_type": "code",
   "execution_count": 181,
   "metadata": {
    "id": "yIteqU0_qZR0",
    "outputId": "d8413164-0135-4664-dced-0121fbb8151a"
   },
   "outputs": [
    {
     "name": "stdout",
     "output_type": "stream",
     "text": [
      "<class 'pandas.core.frame.DataFrame'>\n",
      "RangeIndex: 700001 entries, 0 to 700000\n",
      "Data columns (total 49 columns):\n",
      " #   Column             Non-Null Count   Dtype  \n",
      "---  ------             --------------   -----  \n",
      " 0   srip               700001 non-null  object \n",
      " 1   sport              700001 non-null  object \n",
      " 2   dstip              700001 non-null  object \n",
      " 3   dsport             700001 non-null  object \n",
      " 4   proto              700001 non-null  object \n",
      " 5   state              700001 non-null  object \n",
      " 6   dur                700001 non-null  float64\n",
      " 7   sbytes             700001 non-null  int64  \n",
      " 8   dbytes             700001 non-null  int64  \n",
      " 9   sttl               700001 non-null  int64  \n",
      " 10  dttl               700001 non-null  int64  \n",
      " 11  sloss              700001 non-null  int64  \n",
      " 12  dloss              700001 non-null  int64  \n",
      " 13  service            700001 non-null  object \n",
      " 14  sload              700001 non-null  float64\n",
      " 15  dload              700001 non-null  float64\n",
      " 16  spkts              700001 non-null  int64  \n",
      " 17  dpkts              700001 non-null  int64  \n",
      " 18  swin               700001 non-null  int64  \n",
      " 19  dwin               700001 non-null  int64  \n",
      " 20  stcpb              700001 non-null  int64  \n",
      " 21  dtcpb              700001 non-null  int64  \n",
      " 22  smean              700001 non-null  int64  \n",
      " 23  dmean              700001 non-null  int64  \n",
      " 24  trans_depth        700001 non-null  int64  \n",
      " 25  response_body_len  700001 non-null  int64  \n",
      " 26  sjit               700001 non-null  float64\n",
      " 27  djit               700001 non-null  float64\n",
      " 28  stime              700001 non-null  int64  \n",
      " 29  ltime              700001 non-null  int64  \n",
      " 30  sinpkt             700001 non-null  float64\n",
      " 31  dinpkt             700001 non-null  float64\n",
      " 32  tcprtt             700001 non-null  float64\n",
      " 33  synack             700001 non-null  float64\n",
      " 34  ackdat             700001 non-null  float64\n",
      " 35  is_sm_ips_ports    700001 non-null  int64  \n",
      " 36  ct_state_ttl       700001 non-null  int64  \n",
      " 37  ct_flw_http_mthd   700001 non-null  int64  \n",
      " 38  is_ftp_login       700001 non-null  int64  \n",
      " 39  ct_ftp_cmd         700001 non-null  int64  \n",
      " 40  ct_srv_src         700001 non-null  int64  \n",
      " 41  ct_srv_dst         700001 non-null  int64  \n",
      " 42  ct_dst_ltm         700001 non-null  int64  \n",
      " 43  ct_src_ltm         700001 non-null  int64  \n",
      " 44  ct_src_dport_ltm   700001 non-null  int64  \n",
      " 45  st_dst_sport_ltm   700001 non-null  int64  \n",
      " 46  ct_dst_src_ltm     700001 non-null  int64  \n",
      " 47  attack_cat         22215 non-null   object \n",
      " 48  label              700001 non-null  int64  \n",
      "dtypes: float64(10), int64(31), object(8)\n",
      "memory usage: 261.7+ MB\n"
     ]
    }
   ],
   "source": [
    "data_set.info()"
   ]
  },
  {
   "cell_type": "code",
   "execution_count": 182,
   "metadata": {
    "id": "CcpxqCRJqZR1",
    "outputId": "931cdf4c-10d7-474a-b346-1e558bb6ba39"
   },
   "outputs": [
    {
     "data": {
      "text/plain": [
       "array([nan, 'Exploits', 'Reconnaissance', 'DoS', 'Generic', 'Shellcode',\n",
       "       ' Fuzzers', 'Worms', 'Backdoors', 'Analysis'], dtype=object)"
      ]
     },
     "execution_count": 182,
     "metadata": {},
     "output_type": "execute_result"
    }
   ],
   "source": [
    "data_set['attack_cat'].unique()"
   ]
  },
  {
   "cell_type": "code",
   "execution_count": 183,
   "metadata": {
    "id": "gCXnk8pbqZR2",
    "outputId": "a1769722-94f4-42a4-8eb8-fef423fab973"
   },
   "outputs": [
    {
     "data": {
      "text/plain": [
       "attack_cat\n",
       "Generic           33.860005\n",
       "Exploits          24.348413\n",
       " Fuzzers          22.736889\n",
       "Reconnaissance     7.918073\n",
       "DoS                5.253207\n",
       "Backdoors          2.403781\n",
       "Analysis           2.367770\n",
       "Shellcode          1.003826\n",
       "Worms              0.108035\n",
       "Name: proportion, dtype: float64"
      ]
     },
     "execution_count": 183,
     "metadata": {},
     "output_type": "execute_result"
    }
   ],
   "source": [
    "data_set['attack_cat'].value_counts(normalize=True) * 100"
   ]
  },
  {
   "cell_type": "code",
   "execution_count": 184,
   "metadata": {
    "id": "tCv61MISqZR2"
   },
   "outputs": [],
   "source": [
    "data_set['attack_cat'] = data_set['attack_cat'].replace(np.nan, \"Normal\")"
   ]
  },
  {
   "cell_type": "code",
   "execution_count": 185,
   "metadata": {
    "id": "N9ij2LnSqZR3",
    "outputId": "7daad4ef-4eee-4a53-b3bb-f0433be619c9"
   },
   "outputs": [
    {
     "data": {
      "text/plain": [
       "attack_cat\n",
       "Normal            96.826433\n",
       "Generic            1.074570\n",
       "Exploits           0.772713\n",
       " Fuzzers           0.721570\n",
       "Reconnaissance     0.251285\n",
       "DoS                0.166714\n",
       "Backdoors          0.076286\n",
       "Analysis           0.075143\n",
       "Shellcode          0.031857\n",
       "Worms              0.003429\n",
       "Name: proportion, dtype: float64"
      ]
     },
     "execution_count": 185,
     "metadata": {},
     "output_type": "execute_result"
    }
   ],
   "source": [
    "data_set['attack_cat'].value_counts(normalize=True) * 100"
   ]
  },
  {
   "cell_type": "code",
   "execution_count": 186,
   "metadata": {
    "id": "YvqDTb-WqZR3"
   },
   "outputs": [],
   "source": [
    "attacks = ['Normal', 'Exploits', 'Fuzzers', 'DoS', 'Reconnaissance']"
   ]
  },
  {
   "cell_type": "code",
   "execution_count": 187,
   "metadata": {},
   "outputs": [],
   "source": [
    "data_set = data_set[data_set['attack_cat'].isin(attacks)]\n",
    "data_set = data_set.drop('srip',axis=1)\n",
    "data_set = data_set.drop('sport',axis=1)\n",
    "data_set = data_set.drop('dstip',axis=1)\n",
    "data_set = data_set.drop('dsport',axis=1)\n",
    "data_set = data_set.drop('stime',axis=1)\n",
    "data_set = data_set.drop('ltime',axis=1)\n",
    "data_set = data_set.drop('attack_cat',axis=1)"
   ]
  },
  {
   "cell_type": "code",
   "execution_count": 188,
   "metadata": {
    "id": "RPSIdA-0qZR3",
    "outputId": "2aa93c38-e669-448e-9437-a35f8f9ef9ca"
   },
   "outputs": [
    {
     "name": "stderr",
     "output_type": "stream",
     "text": [
      "/var/folders/x_/c7lz775j7fs6dgdjn5h_dn440000gn/T/ipykernel_44858/1217660359.py:25: FutureWarning: Downcasting behavior in `replace` is deprecated and will be removed in a future version. To retain the old behavior, explicitly call `result.infer_objects(copy=False)`. To opt-in to the future behavior, set `pd.set_option('future.no_silent_downcasting', True)`\n",
      "  data_set['proto'] = data_set['proto'].replace(arr,arr2)\n",
      "/var/folders/x_/c7lz775j7fs6dgdjn5h_dn440000gn/T/ipykernel_44858/1217660359.py:34: FutureWarning: Downcasting behavior in `replace` is deprecated and will be removed in a future version. To retain the old behavior, explicitly call `result.infer_objects(copy=False)`. To opt-in to the future behavior, set `pd.set_option('future.no_silent_downcasting', True)`\n",
      "  data_set[\"state\"] = data_set['state'].replace(arr,arr2)\n",
      "/var/folders/x_/c7lz775j7fs6dgdjn5h_dn440000gn/T/ipykernel_44858/1217660359.py:42: FutureWarning: Downcasting behavior in `replace` is deprecated and will be removed in a future version. To retain the old behavior, explicitly call `result.infer_objects(copy=False)`. To opt-in to the future behavior, set `pd.set_option('future.no_silent_downcasting', True)`\n",
      "  data_set[\"service\"] = data_set['service'].replace(arr,arr2)\n"
     ]
    }
   ],
   "source": [
    "data_set[\"proto\"].unique()\n",
    "arr = ['udp', 'arp', 'tcp', 'ospf', 'icmp', 'igmp', 'sctp', 'udt', 'sep',\n",
    "       'swipe', 'sun-nd', 'mobile', 'pim', 'rtp', 'ip', 'ipnip', 'ggp',\n",
    "       'st2', 'egp', 'cbt', 'emcon', 'igp', 'xnet', 'nvp', 'argus',\n",
    "       'bbn-rcc', 'chaos', 'pup', 'hmp', 'mux', 'dcn', 'prm', 'trunk-1',\n",
    "       'xns-idp', 'trunk-2', 'leaf-1', 'leaf-2', 'irtp', 'rdp', 'iso-tp4',\n",
    "       'netblt', 'mfe-nsp', 'merit-inp', '3pc', 'idpr', 'xtp', 'tp++',\n",
    "       'ddp', 'idpr-cmtp', 'ipv6', 'il', 'idrp', 'ipv6-frag', 'sdrp',\n",
    "       'ipv6-route', 'gre', 'rsvp', 'mhrp', 'bna', 'esp', 'i-nlsp',\n",
    "       'narp', 'ipv6-no', 'tlsp', 'skip', 'ipv6-opts', 'any', 'cftp',\n",
    "       'sat-expak', 'kryptolan', 'rvd', 'ippc', 'sat-mon', 'ipcv', 'visa',\n",
    "       'cpnx', 'cphb', 'wsn', 'pvp', 'br-sat-mon', 'wb-mon', 'wb-expak',\n",
    "       'iso-ip', 'secure-vmtp', 'vmtp', 'vines', 'ttp', 'nsfnet-igp',\n",
    "       'dgp', 'tcf', 'eigrp', 'sprite-rpc', 'larp', 'mtp', 'ax.25',\n",
    "       'ipip', 'micp', 'aes-sp3-d', 'encap', 'etherip', 'pri-enc', 'gmtp',\n",
    "       'pnni', 'ifmp', 'aris', 'qnx', 'a/n', 'scps', 'compaq-peer',\n",
    "       'ipcomp', 'snp', 'ipx-n-ip', 'vrrp', 'zero', 'pgm', 'iatp', 'ddx',\n",
    "       'l2tp', 'srp', 'stp', 'smp', 'uti', 'sm', 'ptp', 'crtp', 'isis',\n",
    "       'fire', 'crudp', 'sccopmce', 'pipe', 'sps', 'iplt', 'unas', 'fc',\n",
    "       'ib']\n",
    "arr2 = []\n",
    "for i in range(0,135):\n",
    "    arr2.append(i)\n",
    "    \n",
    "data_set['proto'] = data_set['proto'].replace(arr,arr2)\n",
    "\n",
    "data_set[\"state\"].unique()\n",
    "arr = ['CON', 'INT', 'FIN', 'URH', 'REQ', 'ECO', 'RST', 'CLO', 'TXD',\n",
    "       'URN', 'no', 'ACC', 'PAR', 'MAS', 'TST', 'ECR']\n",
    "arr2 = []\n",
    "\n",
    "for i in range(0,len(arr)):\n",
    "    arr2.append(i)\n",
    "data_set[\"state\"] = data_set['state'].replace(arr,arr2)\n",
    "\n",
    "arr = ['dns', '-', 'http', 'smtp', 'ftp-data', 'ftp', 'ssh', 'pop3',\n",
    "       'snmp', 'ssl', 'irc', 'radius', 'dhcp']\n",
    "\n",
    "arr2=[]\n",
    "for i in range(0,len(arr)):\n",
    "    arr2.append(i)\n",
    "data_set[\"service\"] = data_set['service'].replace(arr,arr2)"
   ]
  },
  {
   "cell_type": "code",
   "execution_count": 189,
   "metadata": {
    "id": "U6f24KfSqZR4"
   },
   "outputs": [],
   "source": [
    "corr=data_set.corr()\n",
    "corr.to_csv('corr.csv')"
   ]
  },
  {
   "cell_type": "code",
   "execution_count": 190,
   "metadata": {
    "id": "7bzXYqiOqZR4",
    "outputId": "1c4a2feb-bf5c-426b-8adc-bdf3554eaf59"
   },
   "outputs": [
    {
     "data": {
      "text/plain": [
       "<Axes: >"
      ]
     },
     "execution_count": 190,
     "metadata": {},
     "output_type": "execute_result"
    },
    {
     "data": {
      "image/png": "[encoded data removed]",
      "text/plain": [
       "<Figure size 1100x900 with 2 Axes>"
      ]
     },
     "metadata": {},
     "output_type": "display_data"
    }
   ],
   "source": [
    "mask = np.triu(np.ones_like(corr, dtype=bool))\n",
    "\n",
    "\n",
    "# Set up the matplotlib figure\n",
    "f, ax = plt.subplots(figsize=(11, 9))\n",
    "\n",
    "# Generate a custom diverging colormap\n",
    "cmap = sns.diverging_palette(230, 20, as_cmap=True)\n",
    "\n",
    "# Draw the heatmap with the mask and correct aspect ratio\n",
    "sns.heatmap(corr, mask=mask, cmap=cmap, vmax=.3, center=0,\n",
    "            square=True, linewidths=.5, cbar_kws={\"shrink\": .5})"
   ]
  },
  {
   "cell_type": "code",
   "execution_count": 191,
   "metadata": {
    "id": "HgrEYqe2qZR5",
    "outputId": "21c410f8-30c7-43ba-d309-e668f3390efd"
   },
   "outputs": [
    {
     "data": {
      "text/html": [
       "<div>\n",
       "<style scoped>\n",
       "    .dataframe tbody tr th:only-of-type {\n",
       "        vertical-align: middle;\n",
       "    }\n",
       "\n",
       "    .dataframe tbody tr th {\n",
       "        vertical-align: top;\n",
       "    }\n",
       "\n",
       "    .dataframe thead th {\n",
       "        text-align: right;\n",
       "    }\n",
       "</style>\n",
       "<table border=\"1\" class=\"dataframe\">\n",
       "  <thead>\n",
       "    <tr style=\"text-align: right;\">\n",
       "      <th></th>\n",
       "      <th>proto</th>\n",
       "      <th>state</th>\n",
       "      <th>dur</th>\n",
       "      <th>sbytes</th>\n",
       "      <th>dbytes</th>\n",
       "      <th>sttl</th>\n",
       "      <th>dttl</th>\n",
       "      <th>sloss</th>\n",
       "      <th>dloss</th>\n",
       "      <th>service</th>\n",
       "      <th>...</th>\n",
       "      <th>is_ftp_login</th>\n",
       "      <th>ct_ftp_cmd</th>\n",
       "      <th>ct_srv_src</th>\n",
       "      <th>ct_srv_dst</th>\n",
       "      <th>ct_dst_ltm</th>\n",
       "      <th>ct_src_ltm</th>\n",
       "      <th>ct_src_dport_ltm</th>\n",
       "      <th>st_dst_sport_ltm</th>\n",
       "      <th>ct_dst_src_ltm</th>\n",
       "      <th>label</th>\n",
       "    </tr>\n",
       "  </thead>\n",
       "  <tbody>\n",
       "    <tr>\n",
       "      <th>0</th>\n",
       "      <td>0</td>\n",
       "      <td>0</td>\n",
       "      <td>0.001055</td>\n",
       "      <td>132</td>\n",
       "      <td>164</td>\n",
       "      <td>31</td>\n",
       "      <td>29</td>\n",
       "      <td>0</td>\n",
       "      <td>0</td>\n",
       "      <td>0</td>\n",
       "      <td>...</td>\n",
       "      <td>0</td>\n",
       "      <td>0</td>\n",
       "      <td>3</td>\n",
       "      <td>7</td>\n",
       "      <td>1</td>\n",
       "      <td>3</td>\n",
       "      <td>1</td>\n",
       "      <td>1</td>\n",
       "      <td>1</td>\n",
       "      <td>0</td>\n",
       "    </tr>\n",
       "    <tr>\n",
       "      <th>1</th>\n",
       "      <td>0</td>\n",
       "      <td>0</td>\n",
       "      <td>0.036133</td>\n",
       "      <td>528</td>\n",
       "      <td>304</td>\n",
       "      <td>31</td>\n",
       "      <td>29</td>\n",
       "      <td>0</td>\n",
       "      <td>0</td>\n",
       "      <td>1</td>\n",
       "      <td>...</td>\n",
       "      <td>0</td>\n",
       "      <td>0</td>\n",
       "      <td>2</td>\n",
       "      <td>4</td>\n",
       "      <td>2</td>\n",
       "      <td>3</td>\n",
       "      <td>1</td>\n",
       "      <td>1</td>\n",
       "      <td>2</td>\n",
       "      <td>0</td>\n",
       "    </tr>\n",
       "    <tr>\n",
       "      <th>2</th>\n",
       "      <td>0</td>\n",
       "      <td>0</td>\n",
       "      <td>0.001119</td>\n",
       "      <td>146</td>\n",
       "      <td>178</td>\n",
       "      <td>31</td>\n",
       "      <td>29</td>\n",
       "      <td>0</td>\n",
       "      <td>0</td>\n",
       "      <td>0</td>\n",
       "      <td>...</td>\n",
       "      <td>0</td>\n",
       "      <td>0</td>\n",
       "      <td>12</td>\n",
       "      <td>8</td>\n",
       "      <td>1</td>\n",
       "      <td>2</td>\n",
       "      <td>2</td>\n",
       "      <td>1</td>\n",
       "      <td>1</td>\n",
       "      <td>0</td>\n",
       "    </tr>\n",
       "    <tr>\n",
       "      <th>3</th>\n",
       "      <td>0</td>\n",
       "      <td>0</td>\n",
       "      <td>0.001209</td>\n",
       "      <td>132</td>\n",
       "      <td>164</td>\n",
       "      <td>31</td>\n",
       "      <td>29</td>\n",
       "      <td>0</td>\n",
       "      <td>0</td>\n",
       "      <td>0</td>\n",
       "      <td>...</td>\n",
       "      <td>0</td>\n",
       "      <td>0</td>\n",
       "      <td>6</td>\n",
       "      <td>9</td>\n",
       "      <td>1</td>\n",
       "      <td>1</td>\n",
       "      <td>1</td>\n",
       "      <td>1</td>\n",
       "      <td>1</td>\n",
       "      <td>0</td>\n",
       "    </tr>\n",
       "    <tr>\n",
       "      <th>4</th>\n",
       "      <td>0</td>\n",
       "      <td>0</td>\n",
       "      <td>0.001169</td>\n",
       "      <td>146</td>\n",
       "      <td>178</td>\n",
       "      <td>31</td>\n",
       "      <td>29</td>\n",
       "      <td>0</td>\n",
       "      <td>0</td>\n",
       "      <td>0</td>\n",
       "      <td>...</td>\n",
       "      <td>0</td>\n",
       "      <td>0</td>\n",
       "      <td>7</td>\n",
       "      <td>9</td>\n",
       "      <td>1</td>\n",
       "      <td>1</td>\n",
       "      <td>1</td>\n",
       "      <td>1</td>\n",
       "      <td>1</td>\n",
       "      <td>0</td>\n",
       "    </tr>\n",
       "  </tbody>\n",
       "</table>\n",
       "<p>5 rows × 42 columns</p>\n",
       "</div>"
      ],
      "text/plain": [
       "   proto  state       dur  sbytes  dbytes  sttl  dttl  sloss  dloss  service  \\\n",
       "0      0      0  0.001055     132     164    31    29      0      0        0   \n",
       "1      0      0  0.036133     528     304    31    29      0      0        1   \n",
       "2      0      0  0.001119     146     178    31    29      0      0        0   \n",
       "3      0      0  0.001209     132     164    31    29      0      0        0   \n",
       "4      0      0  0.001169     146     178    31    29      0      0        0   \n",
       "\n",
       "   ...  is_ftp_login  ct_ftp_cmd  ct_srv_src  ct_srv_dst  ct_dst_ltm  \\\n",
       "0  ...             0           0           3           7           1   \n",
       "1  ...             0           0           2           4           2   \n",
       "2  ...             0           0          12           8           1   \n",
       "3  ...             0           0           6           9           1   \n",
       "4  ...             0           0           7           9           1   \n",
       "\n",
       "   ct_src_ltm  ct_src_dport_ltm  st_dst_sport_ltm  ct_dst_src_ltm  label  \n",
       "0           3                 1                 1               1      0  \n",
       "1           3                 1                 1               2      0  \n",
       "2           2                 2                 1               1      0  \n",
       "3           1                 1                 1               1      0  \n",
       "4           1                 1                 1               1      0  \n",
       "\n",
       "[5 rows x 42 columns]"
      ]
     },
     "execution_count": 191,
     "metadata": {},
     "output_type": "execute_result"
    }
   ],
   "source": [
    "data_set.head()"
   ]
  },
  {
   "cell_type": "code",
   "execution_count": 192,
   "metadata": {
    "id": "XQaGYHoKqZR6",
    "outputId": "41efc51b-fc5f-4e36-e59f-9921e55bd769"
   },
   "outputs": [
    {
     "data": {
      "text/plain": [
       "proto                  int64\n",
       "state                  int64\n",
       "dur                  float64\n",
       "sbytes                 int64\n",
       "dbytes                 int64\n",
       "sttl                   int64\n",
       "dttl                   int64\n",
       "sloss                  int64\n",
       "dloss                  int64\n",
       "service                int64\n",
       "sload                float64\n",
       "dload                float64\n",
       "spkts                  int64\n",
       "dpkts                  int64\n",
       "swin                   int64\n",
       "dwin                   int64\n",
       "stcpb                  int64\n",
       "dtcpb                  int64\n",
       "smean                  int64\n",
       "dmean                  int64\n",
       "trans_depth            int64\n",
       "response_body_len      int64\n",
       "sjit                 float64\n",
       "djit                 float64\n",
       "sinpkt               float64\n",
       "dinpkt               float64\n",
       "tcprtt               float64\n",
       "synack               float64\n",
       "ackdat               float64\n",
       "is_sm_ips_ports        int64\n",
       "ct_state_ttl           int64\n",
       "ct_flw_http_mthd       int64\n",
       "is_ftp_login           int64\n",
       "ct_ftp_cmd             int64\n",
       "ct_srv_src             int64\n",
       "ct_srv_dst             int64\n",
       "ct_dst_ltm             int64\n",
       "ct_src_ltm             int64\n",
       "ct_src_dport_ltm       int64\n",
       "st_dst_sport_ltm       int64\n",
       "ct_dst_src_ltm         int64\n",
       "label                  int64\n",
       "dtype: object"
      ]
     },
     "execution_count": 192,
     "metadata": {},
     "output_type": "execute_result"
    }
   ],
   "source": [
    "data_set.dtypes"
   ]
  },
  {
   "cell_type": "code",
   "execution_count": 193,
   "metadata": {},
   "outputs": [
    {
     "name": "stdout",
     "output_type": "stream",
     "text": [
      "<class 'pandas.core.frame.DataFrame'>\n",
      "Index: 686121 entries, 0 to 700000\n",
      "Data columns (total 42 columns):\n",
      " #   Column             Non-Null Count   Dtype  \n",
      "---  ------             --------------   -----  \n",
      " 0   proto              686121 non-null  int64  \n",
      " 1   state              686121 non-null  int64  \n",
      " 2   dur                686121 non-null  float64\n",
      " 3   sbytes             686121 non-null  int64  \n",
      " 4   dbytes             686121 non-null  int64  \n",
      " 5   sttl               686121 non-null  int64  \n",
      " 6   dttl               686121 non-null  int64  \n",
      " 7   sloss              686121 non-null  int64  \n",
      " 8   dloss              686121 non-null  int64  \n",
      " 9   service            686121 non-null  int64  \n",
      " 10  sload              686121 non-null  float64\n",
      " 11  dload              686121 non-null  float64\n",
      " 12  spkts              686121 non-null  int64  \n",
      " 13  dpkts              686121 non-null  int64  \n",
      " 14  swin               686121 non-null  int64  \n",
      " 15  dwin               686121 non-null  int64  \n",
      " 16  stcpb              686121 non-null  int64  \n",
      " 17  dtcpb              686121 non-null  int64  \n",
      " 18  smean              686121 non-null  int64  \n",
      " 19  dmean              686121 non-null  int64  \n",
      " 20  trans_depth        686121 non-null  int64  \n",
      " 21  response_body_len  686121 non-null  int64  \n",
      " 22  sjit               686121 non-null  float64\n",
      " 23  djit               686121 non-null  float64\n",
      " 24  sinpkt             686121 non-null  float64\n",
      " 25  dinpkt             686121 non-null  float64\n",
      " 26  tcprtt             686121 non-null  float64\n",
      " 27  synack             686121 non-null  float64\n",
      " 28  ackdat             686121 non-null  float64\n",
      " 29  is_sm_ips_ports    686121 non-null  int64  \n",
      " 30  ct_state_ttl       686121 non-null  int64  \n",
      " 31  ct_flw_http_mthd   686121 non-null  int64  \n",
      " 32  is_ftp_login       686121 non-null  int64  \n",
      " 33  ct_ftp_cmd         686121 non-null  int64  \n",
      " 34  ct_srv_src         686121 non-null  int64  \n",
      " 35  ct_srv_dst         686121 non-null  int64  \n",
      " 36  ct_dst_ltm         686121 non-null  int64  \n",
      " 37  ct_src_ltm         686121 non-null  int64  \n",
      " 38  ct_src_dport_ltm   686121 non-null  int64  \n",
      " 39  st_dst_sport_ltm   686121 non-null  int64  \n",
      " 40  ct_dst_src_ltm     686121 non-null  int64  \n",
      " 41  label              686121 non-null  int64  \n",
      "dtypes: float64(10), int64(32)\n",
      "memory usage: 225.1 MB\n"
     ]
    }
   ],
   "source": [
    "data_set.info()"
   ]
  },
  {
   "cell_type": "code",
   "execution_count": null,
   "metadata": {},
   "outputs": [],
   "source": []
  },
  {
   "cell_type": "markdown",
   "metadata": {
    "id": "_VfhMVPPqZR6"
   },
   "source": [
    "#  Resolviendo el oversampling y dividiendo el dataset en el de entrenamiento y el de testing"
   ]
  },
  {
   "cell_type": "code",
   "execution_count": 194,
   "metadata": {},
   "outputs": [
    {
     "name": "stdout",
     "output_type": "stream",
     "text": [
      "Defaulting to user installation because normal site-packages is not writeable\n",
      "Requirement already satisfied: imblearn in /Users/davidfonseca/Library/Python/3.9/lib/python/site-packages (0.0)\n",
      "Requirement already satisfied: imbalanced-learn in /Users/davidfonseca/Library/Python/3.9/lib/python/site-packages (from imblearn) (0.12.2)\n",
      "Requirement already satisfied: numpy>=1.17.3 in /Users/davidfonseca/Library/Python/3.9/lib/python/site-packages (from imbalanced-learn->imblearn) (1.26.4)\n",
      "Requirement already satisfied: scikit-learn>=1.0.2 in /Users/davidfonseca/Library/Python/3.9/lib/python/site-packages (from imbalanced-learn->imblearn) (1.4.2)\n",
      "Requirement already satisfied: scipy>=1.5.0 in /Users/davidfonseca/Library/Python/3.9/lib/python/site-packages (from imbalanced-learn->imblearn) (1.13.0)\n",
      "Requirement already satisfied: threadpoolctl>=2.0.0 in /Users/davidfonseca/Library/Python/3.9/lib/python/site-packages (from imbalanced-learn->imblearn) (3.4.0)\n",
      "Requirement already satisfied: joblib>=1.1.1 in /Users/davidfonseca/Library/Python/3.9/lib/python/site-packages (from imbalanced-learn->imblearn) (1.4.0)\n",
      "\u001b[33mWARNING: You are using pip version 21.2.4; however, version 24.0 is available.\n",
      "You should consider upgrading via the '/Library/Developer/CommandLineTools/usr/bin/python3 -m pip install --upgrade pip' command.\u001b[0m\n"
     ]
    }
   ],
   "source": [
    "!pip3 install imblearn"
   ]
  },
  {
   "cell_type": "code",
   "execution_count": 229,
   "metadata": {},
   "outputs": [
    {
     "name": "stdout",
     "output_type": "stream",
     "text": [
      "<class 'pandas.core.frame.DataFrame'>\n",
      "RangeIndex: 686121 entries, 0 to 686120\n",
      "Data columns (total 42 columns):\n",
      " #   Column             Non-Null Count   Dtype  \n",
      "---  ------             --------------   -----  \n",
      " 0   proto              686121 non-null  float64\n",
      " 1   state              686121 non-null  float64\n",
      " 2   dur                686121 non-null  float64\n",
      " 3   sbytes             686121 non-null  float64\n",
      " 4   dbytes             686121 non-null  float64\n",
      " 5   sttl               686121 non-null  float64\n",
      " 6   dttl               686121 non-null  float64\n",
      " 7   sloss              686121 non-null  float64\n",
      " 8   dloss              686121 non-null  float64\n",
      " 9   service            686121 non-null  float64\n",
      " 10  sload              686121 non-null  float64\n",
      " 11  dload              686121 non-null  float64\n",
      " 12  spkts              686121 non-null  float64\n",
      " 13  dpkts              686121 non-null  float64\n",
      " 14  swin               686121 non-null  float64\n",
      " 15  dwin               686121 non-null  float64\n",
      " 16  stcpb              686121 non-null  float64\n",
      " 17  dtcpb              686121 non-null  float64\n",
      " 18  smean              686121 non-null  float64\n",
      " 19  dmean              686121 non-null  float64\n",
      " 20  trans_depth        686121 non-null  float64\n",
      " 21  response_body_len  686121 non-null  float64\n",
      " 22  sjit               686121 non-null  float64\n",
      " 23  djit               686121 non-null  float64\n",
      " 24  sinpkt             686121 non-null  float64\n",
      " 25  inpkt              686121 non-null  float64\n",
      " 26  tcprtt             686121 non-null  float64\n",
      " 27  synack             686121 non-null  float64\n",
      " 28  ackdat             686121 non-null  float64\n",
      " 29  is_sm_ips_ports    686121 non-null  float64\n",
      " 30  ct_state_ttl       686121 non-null  float64\n",
      " 31  ct_flw_http_mthd   686121 non-null  float64\n",
      " 32  is_ftp_login       686121 non-null  float64\n",
      " 33  ct_ftp_cmd         686121 non-null  float64\n",
      " 34  ct_srv_src         686121 non-null  float64\n",
      " 35  ct_srv_dst         686121 non-null  float64\n",
      " 36  ct_dst_ltm         686121 non-null  float64\n",
      " 37  ct_src_ltm         686121 non-null  float64\n",
      " 38  ct_src_dport_ltm   686121 non-null  float64\n",
      " 39  st_dst_sport_ltm   686121 non-null  float64\n",
      " 40  ct_dst_src_ltm     686121 non-null  float64\n",
      " 41  label              686121 non-null  float64\n",
      "dtypes: float64(42)\n",
      "memory usage: 219.9 MB\n"
     ]
    }
   ],
   "source": [
    "data_set.info()"
   ]
  },
  {
   "cell_type": "code",
   "execution_count": 195,
   "metadata": {
    "id": "22T43kOqqZR7",
    "outputId": "fca453a6-2686-4a2b-9a21-cab82daf1e99"
   },
   "outputs": [
    {
     "data": {
      "text/plain": [
       "label\n",
       "0.0    0.5\n",
       "1.0    0.5\n",
       "Name: proportion, dtype: float64"
      ]
     },
     "execution_count": 195,
     "metadata": {},
     "output_type": "execute_result"
    }
   ],
   "source": [
    "from imblearn.over_sampling import RandomOverSampler\n",
    "import sklearn\n",
    "from sklearn.preprocessing import MinMaxScaler\n",
    "\n",
    "scaler = MinMaxScaler(feature_range = (0,1))\n",
    "scaled = scaler.fit(data_set)\n",
    "data_set_x = scaled.transform(data_set)\n",
    "\n",
    "data_set = pd.DataFrame(data=data_set_x, columns=['proto', 'state', 'dur', 'sbytes', 'dbytes', 'sttl', 'dttl', 'sloss', 'dloss', 'service', 'sload', 'dload', 'spkts', 'dpkts', 'swin', 'dwin', 'stcpb', 'dtcpb', 'smean', 'dmean', 'trans_depth', 'response_body_len', 'sjit', 'djit', 'sinpkt', 'inpkt', 'tcprtt', 'synack', 'ackdat', 'is_sm_ips_ports', 'ct_state_ttl', 'ct_flw_http_mthd', 'is_ftp_login', 'ct_ftp_cmd', 'ct_srv_src', 'ct_srv_dst', 'ct_dst_ltm', 'ct_src_ltm', 'ct_src_dport_ltm', 'st_dst_sport_ltm', 'ct_dst_src_ltm', 'label'])\n",
    "\n",
    "Y = data_set[\"label\"]\n",
    "X = data_set.drop(columns=[\"label\"])\n",
    "\n",
    "\n",
    "X_train, X_test, y_train, y_test = sklearn.model_selection.train_test_split(X, Y, test_size=0.2, random_state=53, shuffle=True)\n",
    "\n",
    "\n",
    "\n",
    "\n",
    "ros = RandomOverSampler(random_state=53)\n",
    "X_train, y_train = ros.fit_resample(X_train, y_train)\n",
    "y_train.value_counts(normalize=True)\n",
    "\n",
    "\n",
    "\n",
    "\n",
    "\n",
    "\n"
   ]
  },
  {
   "cell_type": "code",
   "execution_count": 196,
   "metadata": {
    "id": "pbzdIs7HqZR7",
    "outputId": "f03829c5-76fa-473c-b869-7ab09c99a030"
   },
   "outputs": [
    {
     "data": {
      "text/html": [
       "<div>\n",
       "<style scoped>\n",
       "    .dataframe tbody tr th:only-of-type {\n",
       "        vertical-align: middle;\n",
       "    }\n",
       "\n",
       "    .dataframe tbody tr th {\n",
       "        vertical-align: top;\n",
       "    }\n",
       "\n",
       "    .dataframe thead th {\n",
       "        text-align: right;\n",
       "    }\n",
       "</style>\n",
       "<table border=\"1\" class=\"dataframe\">\n",
       "  <thead>\n",
       "    <tr style=\"text-align: right;\">\n",
       "      <th></th>\n",
       "      <th>proto</th>\n",
       "      <th>state</th>\n",
       "      <th>dur</th>\n",
       "      <th>sbytes</th>\n",
       "      <th>dbytes</th>\n",
       "      <th>sttl</th>\n",
       "      <th>dttl</th>\n",
       "      <th>sloss</th>\n",
       "      <th>dloss</th>\n",
       "      <th>service</th>\n",
       "      <th>...</th>\n",
       "      <th>ct_flw_http_mthd</th>\n",
       "      <th>is_ftp_login</th>\n",
       "      <th>ct_ftp_cmd</th>\n",
       "      <th>ct_srv_src</th>\n",
       "      <th>ct_srv_dst</th>\n",
       "      <th>ct_dst_ltm</th>\n",
       "      <th>ct_src_ltm</th>\n",
       "      <th>ct_src_dport_ltm</th>\n",
       "      <th>st_dst_sport_ltm</th>\n",
       "      <th>ct_dst_src_ltm</th>\n",
       "    </tr>\n",
       "  </thead>\n",
       "  <tbody>\n",
       "    <tr>\n",
       "      <th>count</th>\n",
       "      <td>1.084412e+06</td>\n",
       "      <td>1.084412e+06</td>\n",
       "      <td>1.084412e+06</td>\n",
       "      <td>1.084412e+06</td>\n",
       "      <td>1.084412e+06</td>\n",
       "      <td>1.084412e+06</td>\n",
       "      <td>1.084412e+06</td>\n",
       "      <td>1.084412e+06</td>\n",
       "      <td>1.084412e+06</td>\n",
       "      <td>1.084412e+06</td>\n",
       "      <td>...</td>\n",
       "      <td>1.084412e+06</td>\n",
       "      <td>1.084412e+06</td>\n",
       "      <td>1.084412e+06</td>\n",
       "      <td>1.084412e+06</td>\n",
       "      <td>1.084412e+06</td>\n",
       "      <td>1.084412e+06</td>\n",
       "      <td>1.084412e+06</td>\n",
       "      <td>1.084412e+06</td>\n",
       "      <td>1.084412e+06</td>\n",
       "      <td>1.084412e+06</td>\n",
       "    </tr>\n",
       "    <tr>\n",
       "      <th>mean</th>\n",
       "      <td>7.200436e-02</td>\n",
       "      <td>1.038359e-01</td>\n",
       "      <td>1.344488e-04</td>\n",
       "      <td>1.277032e-03</td>\n",
       "      <td>2.520461e-03</td>\n",
       "      <td>4.133649e-01</td>\n",
       "      <td>4.003148e-01</td>\n",
       "      <td>1.939719e-03</td>\n",
       "      <td>2.994488e-03</td>\n",
       "      <td>1.261079e-01</td>\n",
       "      <td>...</td>\n",
       "      <td>3.895250e-03</td>\n",
       "      <td>1.255335e-02</td>\n",
       "      <td>2.309547e-03</td>\n",
       "      <td>9.787312e-02</td>\n",
       "      <td>8.929429e-02</td>\n",
       "      <td>5.033268e-02</td>\n",
       "      <td>5.401381e-02</td>\n",
       "      <td>1.854530e-02</td>\n",
       "      <td>1.481529e-02</td>\n",
       "      <td>2.595939e-02</td>\n",
       "    </tr>\n",
       "    <tr>\n",
       "      <th>std</th>\n",
       "      <td>2.164875e-01</td>\n",
       "      <td>5.019861e-02</td>\n",
       "      <td>1.738549e-03</td>\n",
       "      <td>2.000261e-02</td>\n",
       "      <td>1.644923e-02</td>\n",
       "      <td>3.904995e-01</td>\n",
       "      <td>4.325278e-01</td>\n",
       "      <td>2.007127e-02</td>\n",
       "      <td>1.602965e-02</td>\n",
       "      <td>1.116016e-01</td>\n",
       "      <td>...</td>\n",
       "      <td>1.740499e-02</td>\n",
       "      <td>1.113363e-01</td>\n",
       "      <td>2.579130e-02</td>\n",
       "      <td>1.183756e-01</td>\n",
       "      <td>1.140780e-01</td>\n",
       "      <td>7.711438e-02</td>\n",
       "      <td>7.403614e-02</td>\n",
       "      <td>4.946711e-02</td>\n",
       "      <td>4.570808e-02</td>\n",
       "      <td>5.318519e-02</td>\n",
       "    </tr>\n",
       "    <tr>\n",
       "      <th>min</th>\n",
       "      <td>0.000000e+00</td>\n",
       "      <td>0.000000e+00</td>\n",
       "      <td>0.000000e+00</td>\n",
       "      <td>0.000000e+00</td>\n",
       "      <td>0.000000e+00</td>\n",
       "      <td>0.000000e+00</td>\n",
       "      <td>0.000000e+00</td>\n",
       "      <td>0.000000e+00</td>\n",
       "      <td>0.000000e+00</td>\n",
       "      <td>0.000000e+00</td>\n",
       "      <td>...</td>\n",
       "      <td>0.000000e+00</td>\n",
       "      <td>0.000000e+00</td>\n",
       "      <td>0.000000e+00</td>\n",
       "      <td>0.000000e+00</td>\n",
       "      <td>0.000000e+00</td>\n",
       "      <td>0.000000e+00</td>\n",
       "      <td>0.000000e+00</td>\n",
       "      <td>0.000000e+00</td>\n",
       "      <td>0.000000e+00</td>\n",
       "      <td>0.000000e+00</td>\n",
       "    </tr>\n",
       "    <tr>\n",
       "      <th>25%</th>\n",
       "      <td>1.492537e-02</td>\n",
       "      <td>6.666667e-02</td>\n",
       "      <td>2.015561e-07</td>\n",
       "      <td>2.339627e-05</td>\n",
       "      <td>1.214568e-05</td>\n",
       "      <td>1.215686e-01</td>\n",
       "      <td>1.141732e-01</td>\n",
       "      <td>0.000000e+00</td>\n",
       "      <td>0.000000e+00</td>\n",
       "      <td>8.333333e-02</td>\n",
       "      <td>...</td>\n",
       "      <td>0.000000e+00</td>\n",
       "      <td>0.000000e+00</td>\n",
       "      <td>0.000000e+00</td>\n",
       "      <td>0.000000e+00</td>\n",
       "      <td>0.000000e+00</td>\n",
       "      <td>0.000000e+00</td>\n",
       "      <td>0.000000e+00</td>\n",
       "      <td>0.000000e+00</td>\n",
       "      <td>0.000000e+00</td>\n",
       "      <td>0.000000e+00</td>\n",
       "    </tr>\n",
       "    <tr>\n",
       "      <th>50%</th>\n",
       "      <td>1.492537e-02</td>\n",
       "      <td>1.333333e-01</td>\n",
       "      <td>2.019066e-05</td>\n",
       "      <td>7.574543e-05</td>\n",
       "      <td>1.113581e-04</td>\n",
       "      <td>2.431373e-01</td>\n",
       "      <td>1.141732e-01</td>\n",
       "      <td>3.924647e-04</td>\n",
       "      <td>3.647638e-04</td>\n",
       "      <td>8.333333e-02</td>\n",
       "      <td>...</td>\n",
       "      <td>0.000000e+00</td>\n",
       "      <td>0.000000e+00</td>\n",
       "      <td>0.000000e+00</td>\n",
       "      <td>4.651163e-02</td>\n",
       "      <td>4.878049e-02</td>\n",
       "      <td>2.439024e-02</td>\n",
       "      <td>2.040816e-02</td>\n",
       "      <td>0.000000e+00</td>\n",
       "      <td>0.000000e+00</td>\n",
       "      <td>0.000000e+00</td>\n",
       "    </tr>\n",
       "    <tr>\n",
       "      <th>75%</th>\n",
       "      <td>1.492537e-02</td>\n",
       "      <td>1.333333e-01</td>\n",
       "      <td>1.077504e-04</td>\n",
       "      <td>2.162693e-04</td>\n",
       "      <td>6.938049e-04</td>\n",
       "      <td>9.960784e-01</td>\n",
       "      <td>9.921260e-01</td>\n",
       "      <td>1.373626e-03</td>\n",
       "      <td>1.459055e-03</td>\n",
       "      <td>1.666667e-01</td>\n",
       "      <td>...</td>\n",
       "      <td>0.000000e+00</td>\n",
       "      <td>0.000000e+00</td>\n",
       "      <td>0.000000e+00</td>\n",
       "      <td>1.627907e-01</td>\n",
       "      <td>1.463415e-01</td>\n",
       "      <td>7.317073e-02</td>\n",
       "      <td>8.163265e-02</td>\n",
       "      <td>0.000000e+00</td>\n",
       "      <td>0.000000e+00</td>\n",
       "      <td>2.702703e-02</td>\n",
       "    </tr>\n",
       "    <tr>\n",
       "      <th>max</th>\n",
       "      <td>1.000000e+00</td>\n",
       "      <td>1.000000e+00</td>\n",
       "      <td>1.000000e+00</td>\n",
       "      <td>9.166168e-01</td>\n",
       "      <td>1.000000e+00</td>\n",
       "      <td>1.000000e+00</td>\n",
       "      <td>1.000000e+00</td>\n",
       "      <td>9.236656e-01</td>\n",
       "      <td>1.000000e+00</td>\n",
       "      <td>1.000000e+00</td>\n",
       "      <td>...</td>\n",
       "      <td>1.000000e+00</td>\n",
       "      <td>1.000000e+00</td>\n",
       "      <td>1.000000e+00</td>\n",
       "      <td>1.000000e+00</td>\n",
       "      <td>1.000000e+00</td>\n",
       "      <td>1.000000e+00</td>\n",
       "      <td>1.000000e+00</td>\n",
       "      <td>1.000000e+00</td>\n",
       "      <td>1.000000e+00</td>\n",
       "      <td>1.000000e+00</td>\n",
       "    </tr>\n",
       "  </tbody>\n",
       "</table>\n",
       "<p>8 rows × 41 columns</p>\n",
       "</div>"
      ],
      "text/plain": [
       "              proto         state           dur        sbytes        dbytes  \\\n",
       "count  1.084412e+06  1.084412e+06  1.084412e+06  1.084412e+06  1.084412e+06   \n",
       "mean   7.200436e-02  1.038359e-01  1.344488e-04  1.277032e-03  2.520461e-03   \n",
       "std    2.164875e-01  5.019861e-02  1.738549e-03  2.000261e-02  1.644923e-02   \n",
       "min    0.000000e+00  0.000000e+00  0.000000e+00  0.000000e+00  0.000000e+00   \n",
       "25%    1.492537e-02  6.666667e-02  2.015561e-07  2.339627e-05  1.214568e-05   \n",
       "50%    1.492537e-02  1.333333e-01  2.019066e-05  7.574543e-05  1.113581e-04   \n",
       "75%    1.492537e-02  1.333333e-01  1.077504e-04  2.162693e-04  6.938049e-04   \n",
       "max    1.000000e+00  1.000000e+00  1.000000e+00  9.166168e-01  1.000000e+00   \n",
       "\n",
       "               sttl          dttl         sloss         dloss       service  \\\n",
       "count  1.084412e+06  1.084412e+06  1.084412e+06  1.084412e+06  1.084412e+06   \n",
       "mean   4.133649e-01  4.003148e-01  1.939719e-03  2.994488e-03  1.261079e-01   \n",
       "std    3.904995e-01  4.325278e-01  2.007127e-02  1.602965e-02  1.116016e-01   \n",
       "min    0.000000e+00  0.000000e+00  0.000000e+00  0.000000e+00  0.000000e+00   \n",
       "25%    1.215686e-01  1.141732e-01  0.000000e+00  0.000000e+00  8.333333e-02   \n",
       "50%    2.431373e-01  1.141732e-01  3.924647e-04  3.647638e-04  8.333333e-02   \n",
       "75%    9.960784e-01  9.921260e-01  1.373626e-03  1.459055e-03  1.666667e-01   \n",
       "max    1.000000e+00  1.000000e+00  9.236656e-01  1.000000e+00  1.000000e+00   \n",
       "\n",
       "       ...  ct_flw_http_mthd  is_ftp_login    ct_ftp_cmd    ct_srv_src  \\\n",
       "count  ...      1.084412e+06  1.084412e+06  1.084412e+06  1.084412e+06   \n",
       "mean   ...      3.895250e-03  1.255335e-02  2.309547e-03  9.787312e-02   \n",
       "std    ...      1.740499e-02  1.113363e-01  2.579130e-02  1.183756e-01   \n",
       "min    ...      0.000000e+00  0.000000e+00  0.000000e+00  0.000000e+00   \n",
       "25%    ...      0.000000e+00  0.000000e+00  0.000000e+00  0.000000e+00   \n",
       "50%    ...      0.000000e+00  0.000000e+00  0.000000e+00  4.651163e-02   \n",
       "75%    ...      0.000000e+00  0.000000e+00  0.000000e+00  1.627907e-01   \n",
       "max    ...      1.000000e+00  1.000000e+00  1.000000e+00  1.000000e+00   \n",
       "\n",
       "         ct_srv_dst    ct_dst_ltm    ct_src_ltm  ct_src_dport_ltm  \\\n",
       "count  1.084412e+06  1.084412e+06  1.084412e+06      1.084412e+06   \n",
       "mean   8.929429e-02  5.033268e-02  5.401381e-02      1.854530e-02   \n",
       "std    1.140780e-01  7.711438e-02  7.403614e-02      4.946711e-02   \n",
       "min    0.000000e+00  0.000000e+00  0.000000e+00      0.000000e+00   \n",
       "25%    0.000000e+00  0.000000e+00  0.000000e+00      0.000000e+00   \n",
       "50%    4.878049e-02  2.439024e-02  2.040816e-02      0.000000e+00   \n",
       "75%    1.463415e-01  7.317073e-02  8.163265e-02      0.000000e+00   \n",
       "max    1.000000e+00  1.000000e+00  1.000000e+00      1.000000e+00   \n",
       "\n",
       "       st_dst_sport_ltm  ct_dst_src_ltm  \n",
       "count      1.084412e+06    1.084412e+06  \n",
       "mean       1.481529e-02    2.595939e-02  \n",
       "std        4.570808e-02    5.318519e-02  \n",
       "min        0.000000e+00    0.000000e+00  \n",
       "25%        0.000000e+00    0.000000e+00  \n",
       "50%        0.000000e+00    0.000000e+00  \n",
       "75%        0.000000e+00    2.702703e-02  \n",
       "max        1.000000e+00    1.000000e+00  \n",
       "\n",
       "[8 rows x 41 columns]"
      ]
     },
     "execution_count": 196,
     "metadata": {},
     "output_type": "execute_result"
    }
   ],
   "source": [
    "X_train.describe()"
   ]
  },
  {
   "cell_type": "code",
   "execution_count": 197,
   "metadata": {
    "id": "z-5856fYqZR7",
    "outputId": "444cd7fc-be53-4e7a-9d8f-0ec399083b85"
   },
   "outputs": [
    {
     "data": {
      "text/plain": [
       "label\n",
       "0.0    0.987852\n",
       "1.0    0.012148\n",
       "Name: proportion, dtype: float64"
      ]
     },
     "execution_count": 197,
     "metadata": {},
     "output_type": "execute_result"
    }
   ],
   "source": [
    "Y.value_counts(normalize=True)"
   ]
  },
  {
   "cell_type": "markdown",
   "metadata": {
    "id": "WMESXxB-qZR7"
   },
   "source": [
    "# Analisis de eliminacion de variables"
   ]
  },
  {
   "cell_type": "code",
   "execution_count": 198,
   "metadata": {
    "id": "imIbzDOWqZR8",
    "outputId": "c266f343-cdf7-4774-a47d-794258247cbd"
   },
   "outputs": [
    {
     "name": "stdout",
     "output_type": "stream",
     "text": [
      "['proto', 'state', 'dur', 'sbytes', 'dbytes', 'sttl', 'dttl', 'sloss', 'dloss', 'service', 'sload', 'dload', 'spkts', 'dpkts', 'swin', 'dwin', 'stcpb', 'dtcpb', 'smean', 'dmean', 'trans_depth', 'response_body_len', 'sjit', 'djit', 'sinpkt', 'inpkt', 'tcprtt', 'synack', 'ackdat', 'is_sm_ips_ports', 'ct_state_ttl', 'ct_flw_http_mthd', 'is_ftp_login', 'ct_ftp_cmd', 'ct_srv_src', 'ct_srv_dst', 'ct_dst_ltm', 'ct_src_ltm', 'ct_src_dport_ltm', 'st_dst_sport_ltm', 'ct_dst_src_ltm']\n"
     ]
    }
   ],
   "source": [
    "from sklearn import feature_selection\n",
    "selector = feature_selection.SelectKBest(score_func=feature_selection.f_classif, k=4).fit(X_train, y_train)\n",
    "features=list(X.columns)\n",
    "print(features)"
   ]
  },
  {
   "cell_type": "code",
   "execution_count": 199,
   "metadata": {
    "id": "SadjNTcdqZR8",
    "outputId": "0d690e80-9fc9-4f71-ac70-7533f1d6a595"
   },
   "outputs": [
    {
     "data": {
      "text/plain": [
       "array([False, False, False, False, False,  True,  True, False, False,\n",
       "       False, False, False, False, False, False, False, False, False,\n",
       "       False, False, False, False, False, False, False, False, False,\n",
       "       False,  True, False,  True, False, False, False, False, False,\n",
       "       False, False, False, False, False])"
      ]
     },
     "execution_count": 199,
     "metadata": {},
     "output_type": "execute_result"
    }
   ],
   "source": [
    "selector.get_support()"
   ]
  },
  {
   "cell_type": "code",
   "execution_count": 200,
   "metadata": {
    "id": "RYuGhqh8qZR8",
    "outputId": "3749782e-ce5a-44e5-e8e4-582f54619171"
   },
   "outputs": [],
   "source": [
    "from sklearn.linear_model import LogisticRegression\n",
    "model = LogisticRegression(solver='lbfgs', max_iter=500)\n",
    "rfe = feature_selection.RFE(model, step=40)\n",
    "fit = rfe.fit(X_train,y_train)"
   ]
  },
  {
   "cell_type": "code",
   "execution_count": 201,
   "metadata": {
    "id": "7lsGlSxDqZR9",
    "outputId": "e631662a-d327-476c-930d-1b91b0449b5e"
   },
   "outputs": [
    {
     "name": "stdout",
     "output_type": "stream",
     "text": [
      "Selected Features: [ True  True False False False  True  True False False  True False False\n",
      " False False  True  True False False False  True  True False False False\n",
      "  True False  True  True False  True  True False False False  True  True\n",
      "  True False  True  True  True]\n"
     ]
    }
   ],
   "source": [
    "print(\"Selected Features: %s\" % fit.support_)"
   ]
  },
  {
   "cell_type": "code",
   "execution_count": 202,
   "metadata": {
    "id": "irKZ2uqXqZR9",
    "outputId": "35e0dca7-0c83-44a2-bf1d-34e563417852"
   },
   "outputs": [
    {
     "name": "stdout",
     "output_type": "stream",
     "text": [
      "Feature Ranking: [1 1 2 2 2 1 1 2 2 1 2 2 2 2 1 1 2 2 2 1 1 2 2 2 1 2 1 1 2 1 1 2 2 2 1 1 1\n",
      " 2 1 1 1]\n"
     ]
    }
   ],
   "source": [
    "\n",
    "print(\"Feature Ranking: %s\" % fit.ranking_)"
   ]
  },
  {
   "cell_type": "code",
   "execution_count": 203,
   "metadata": {
    "id": "h5DoyIa1qZR9"
   },
   "outputs": [
    {
     "name": "stderr",
     "output_type": "stream",
     "text": [
      "/Users/davidfonseca/Library/Python/3.9/lib/python/site-packages/joblib/externals/loky/process_executor.py:752: UserWarning: A worker stopped while some jobs were given to the executor. This can be caused by a too short worker timeout or by a memory leak.\n",
      "  warnings.warn(\n",
      "/Users/davidfonseca/Library/Python/3.9/lib/python/site-packages/sklearn/model_selection/_validation.py:547: FitFailedWarning: \n",
      "1500 fits failed out of a total of 3000.\n",
      "The score on these train-test partitions for these parameters will be set to nan.\n",
      "If these failures are not expected, you can try to debug them by setting error_score='raise'.\n",
      "\n",
      "Below are more details about the failures:\n",
      "--------------------------------------------------------------------------------\n",
      "14 fits failed with the following error:\n",
      "Traceback (most recent call last):\n",
      "  File \"/Users/davidfonseca/Library/Python/3.9/lib/python/site-packages/sklearn/model_selection/_validation.py\", line 895, in _fit_and_score\n",
      "    estimator.fit(X_train, y_train, **fit_params)\n",
      "  File \"/Users/davidfonseca/Library/Python/3.9/lib/python/site-packages/sklearn/base.py\", line 1467, in wrapper\n",
      "    estimator._validate_params()\n",
      "  File \"/Users/davidfonseca/Library/Python/3.9/lib/python/site-packages/sklearn/base.py\", line 666, in _validate_params\n",
      "    validate_parameter_constraints(\n",
      "  File \"/Users/davidfonseca/Library/Python/3.9/lib/python/site-packages/sklearn/utils/_param_validation.py\", line 95, in validate_parameter_constraints\n",
      "    raise InvalidParameterError(\n",
      "sklearn.utils._param_validation.InvalidParameterError: The 'max_features' parameter of DecisionTreeClassifier must be an int in the range [1, inf), a float in the range (0.0, 1.0], a str among {'log2', 'sqrt'} or None. Got 'auto' instead.\n",
      "\n",
      "--------------------------------------------------------------------------------\n",
      "1486 fits failed with the following error:\n",
      "Traceback (most recent call last):\n",
      "  File \"/Users/davidfonseca/Library/Python/3.9/lib/python/site-packages/sklearn/model_selection/_validation.py\", line 895, in _fit_and_score\n",
      "    estimator.fit(X_train, y_train, **fit_params)\n",
      "  File \"/Users/davidfonseca/Library/Python/3.9/lib/python/site-packages/sklearn/base.py\", line 1467, in wrapper\n",
      "    estimator._validate_params()\n",
      "  File \"/Users/davidfonseca/Library/Python/3.9/lib/python/site-packages/sklearn/base.py\", line 666, in _validate_params\n",
      "    validate_parameter_constraints(\n",
      "  File \"/Users/davidfonseca/Library/Python/3.9/lib/python/site-packages/sklearn/utils/_param_validation.py\", line 95, in validate_parameter_constraints\n",
      "    raise InvalidParameterError(\n",
      "sklearn.utils._param_validation.InvalidParameterError: The 'max_features' parameter of DecisionTreeClassifier must be an int in the range [1, inf), a float in the range (0.0, 1.0], a str among {'sqrt', 'log2'} or None. Got 'auto' instead.\n",
      "\n",
      "  warnings.warn(some_fits_failed_message, FitFailedWarning)\n",
      "/Users/davidfonseca/Library/Python/3.9/lib/python/site-packages/sklearn/model_selection/_search.py:1051: UserWarning: One or more of the test scores are non-finite: [       nan        nan        nan        nan        nan        nan\n",
      "        nan        nan        nan        nan        nan        nan\n",
      "        nan        nan        nan        nan        nan        nan\n",
      "        nan        nan        nan        nan        nan        nan\n",
      "        nan        nan        nan        nan        nan        nan\n",
      "        nan        nan        nan        nan        nan        nan\n",
      "        nan        nan        nan        nan        nan        nan\n",
      "        nan        nan        nan        nan        nan        nan\n",
      "        nan        nan        nan        nan        nan        nan\n",
      "        nan        nan        nan        nan        nan        nan\n",
      "        nan        nan        nan        nan        nan        nan\n",
      "        nan        nan        nan        nan        nan        nan\n",
      "        nan        nan        nan 0.81681146 0.80349345 0.50210898\n",
      " 0.8685841  0.83494644 0.49999908 0.83667182 0.89111334 0.50251842\n",
      " 0.82527206 0.82894241 0.49999908 0.86498314 0.88923213 0.50196328\n",
      " 0.82901434 0.77967056 0.49999908 0.83027299 0.79689271 0.49999908\n",
      " 0.85534093 0.84729063 0.49999908 0.83861008 0.87777779 0.49999908\n",
      " 0.75411184 0.80587261 0.49999908 0.86865036 0.81165568 0.49999908\n",
      " 0.80970143 0.87146851 0.49999908 0.7014972  0.89030732 0.49999908\n",
      " 0.81315768 0.81977058 0.50251842 0.9091942  0.89579415 0.49999908\n",
      " 0.82364735 0.77160799 0.50210898 0.82494285 0.78983531 0.49999908\n",
      " 0.8394926  0.93315919 0.49999908 0.8429832  0.90234249 0.49999908\n",
      " 0.83131595 0.86905259 0.50196328 0.92035428 0.85011879 0.50210898\n",
      " 0.80139562 0.82674927 0.49999908 0.8453189  0.80827128 0.50251842\n",
      " 0.80839006 0.88765174 0.49999908 0.77503848 0.74272783 0.50210898\n",
      "        nan        nan        nan        nan        nan        nan\n",
      "        nan        nan        nan        nan        nan        nan\n",
      "        nan        nan        nan        nan        nan        nan\n",
      "        nan        nan        nan        nan        nan        nan\n",
      "        nan        nan        nan        nan        nan        nan\n",
      "        nan        nan        nan        nan        nan        nan\n",
      "        nan        nan        nan        nan        nan        nan\n",
      "        nan        nan        nan        nan        nan        nan\n",
      "        nan        nan        nan        nan        nan        nan\n",
      "        nan        nan        nan        nan        nan        nan\n",
      "        nan        nan        nan        nan        nan        nan\n",
      "        nan        nan        nan        nan        nan        nan\n",
      "        nan        nan        nan 0.96947659 0.82425043 0.49999908\n",
      " 0.9595486  0.88360874 0.49999908 0.96096406 0.80154951 0.50251842\n",
      " 0.9788125  0.84260784 0.49999908 0.93491685 0.85100038 0.49999908\n",
      " 0.93443271 0.82151812 0.50210898 0.87963249 0.78912522 0.50448262\n",
      " 0.94442711 0.90789845 0.50196328 0.90806542 0.90828957 0.49999908\n",
      " 0.95536847 0.93685139 0.49999908 0.85742687 0.89083558 0.49999908\n",
      " 0.94106658 0.9657565  0.50462832 0.91617118 0.84641904 0.49999908\n",
      " 0.94133228 0.8443764  0.50210898 0.89823979 0.88045205 0.50251842\n",
      " 0.9191856  0.80442953 0.49999908 0.92037983 0.81691547 0.50196328\n",
      " 0.95746538 0.86701721 0.49999908 0.93297757 0.82889364 0.49999908\n",
      " 0.94297276 0.86345608 0.49999908 0.87991641 0.80929023 0.49999908\n",
      " 0.95125752 0.8175121  0.50196328 0.93374656 0.83110845 0.49999908\n",
      " 0.92141276 0.88804816 0.50251842 0.93234945 0.8558998  0.50251842\n",
      "        nan        nan        nan        nan        nan        nan\n",
      "        nan        nan        nan        nan        nan        nan\n",
      "        nan        nan        nan        nan        nan        nan\n",
      "        nan        nan        nan        nan        nan        nan\n",
      "        nan        nan        nan        nan        nan        nan\n",
      "        nan        nan        nan        nan        nan        nan\n",
      "        nan        nan        nan        nan        nan        nan\n",
      "        nan        nan        nan        nan        nan        nan\n",
      "        nan        nan        nan        nan        nan        nan\n",
      "        nan        nan        nan        nan        nan        nan\n",
      "        nan        nan        nan        nan        nan        nan\n",
      "        nan        nan        nan        nan        nan        nan\n",
      "        nan        nan        nan 0.92677502 0.77550325 0.49999908\n",
      " 0.9243037  0.79256134 0.49999908 0.93663837 0.81309886 0.49999908\n",
      " 0.96895272 0.84135554 0.49999908 0.94394472 0.93647989 0.49999908\n",
      " 0.9175526  0.86532816 0.49999908 0.91612597 0.7996932  0.49999908\n",
      " 0.91333825 0.91615547 0.49999908 0.91430009 0.80718576 0.49999908\n",
      " 0.89692204 0.85307072 0.49999908 0.94798094 0.72974112 0.49999908\n",
      " 0.90090758 0.81876183 0.49999908 0.95340051 0.84363111 0.50196328\n",
      " 0.93856764 0.84648704 0.50251842 0.95558422 0.78810091 0.50210898\n",
      " 0.94924626 0.81401345 0.49999908 0.99446705 0.9138556  0.49999908\n",
      " 0.93560205 0.87921935 0.49999908 0.94505412 0.866121   0.50462832\n",
      " 0.96905692 0.84543624 0.50210898 0.9633156  0.88036011 0.49999908\n",
      " 0.98089567 0.94114325 0.49999908 0.95405068 0.88362995 0.49999908\n",
      " 0.97760173 0.85475711 0.49999908 0.91889982 0.78579069 0.49999908\n",
      "        nan        nan        nan        nan        nan        nan\n",
      "        nan        nan        nan        nan        nan        nan\n",
      "        nan        nan        nan        nan        nan        nan\n",
      "        nan        nan        nan        nan        nan        nan\n",
      "        nan        nan        nan        nan        nan        nan\n",
      "        nan        nan        nan        nan        nan        nan\n",
      "        nan        nan        nan        nan        nan        nan\n",
      "        nan        nan        nan        nan        nan        nan\n",
      "        nan        nan        nan        nan        nan        nan\n",
      "        nan        nan        nan        nan        nan        nan\n",
      "        nan        nan        nan        nan        nan        nan\n",
      "        nan        nan        nan        nan        nan        nan\n",
      "        nan        nan        nan 0.9170767  0.8538381  0.49999908\n",
      " 0.97330262 0.7459674  0.49999908 0.93098929 0.8085994  0.49999908\n",
      " 0.91044463 0.90843818 0.49999908 0.96937598 0.85244723 0.49999908\n",
      " 0.96561174 0.81366579 0.49999908 0.94062687 0.78518961 0.49999908\n",
      " 0.92750549 0.83738281 0.49999908 0.97170175 0.78353063 0.49999908\n",
      " 0.98950029 0.84998414 0.50251842 0.97460924 0.87951883 0.49999908\n",
      " 0.94454411 0.80411797 0.50210898 0.91638413 0.87790625 0.49999908\n",
      " 0.98171269 0.7905269  0.49999908 0.93402609 0.7657136  0.49999908\n",
      " 0.94797004 0.77697218 0.50251842 0.96988144 0.82529695 0.49999908\n",
      " 0.9642406  0.82118139 0.49999908 0.97004918 0.86961313 0.49999908\n",
      " 0.95039433 0.86302437 0.50196328 0.92286044 0.83280439 0.49999908\n",
      " 0.96158386 0.82865732 0.49999908 0.96326391 0.87623436 0.49999908\n",
      " 0.98715156 0.8333236  0.49999908 0.96761744 0.87940554 0.49999908]\n",
      "  warnings.warn(\n"
     ]
    }
   ],
   "source": [
    "from sklearn.model_selection import GridSearchCV\n",
    "from sklearn.tree import DecisionTreeClassifier as DecisionTree\n",
    "\n",
    "parameters={\"splitter\":[\"best\"],\n",
    "           \"max_depth\" : [1,5,9,11],\n",
    "          \"min_samples_leaf\":[1,3,5,7,9],\n",
    "          \"min_weight_fraction_leaf\":[0.1,0.3,0.5],\n",
    "          \"max_features\":[\"auto\",\"log2\"],\n",
    "          \"max_leaf_nodes\":[10,30,50,70,90]}\n",
    "\n",
    "gs = GridSearchCV(DecisionTree(), parameters, n_jobs=2, scoring=\"accuracy\")\n",
    "gs_result = gs.fit(X_train, y_train)\n",
    "\n",
    "\n",
    "\n"
   ]
  },
  {
   "cell_type": "code",
   "execution_count": 204,
   "metadata": {
    "id": "N2rlj7h0qZR9"
   },
   "outputs": [
    {
     "data": {
      "text/plain": [
       "{'max_depth': 9,\n",
       " 'max_features': 'log2',\n",
       " 'max_leaf_nodes': 70,\n",
       " 'min_samples_leaf': 3,\n",
       " 'min_weight_fraction_leaf': 0.1,\n",
       " 'splitter': 'best'}"
      ]
     },
     "execution_count": 204,
     "metadata": {},
     "output_type": "execute_result"
    }
   ],
   "source": [
    "gs_result.best_params_"
   ]
  },
  {
   "cell_type": "code",
   "execution_count": 205,
   "metadata": {
    "id": "Ko7fNn7qqZR9"
   },
   "outputs": [
    {
     "data": {
      "text/plain": [
       "0.9944670470524409"
      ]
     },
     "execution_count": 205,
     "metadata": {},
     "output_type": "execute_result"
    }
   ],
   "source": [
    "gs_result.best_score_"
   ]
  },
  {
   "cell_type": "code",
   "execution_count": 216,
   "metadata": {
    "id": "VVCCgJFEqZR-"
   },
   "outputs": [],
   "source": [
    "model = DecisionTree(random_state=0,max_depth=9, max_features='log2', max_leaf_nodes=70, min_samples_leaf=3, min_weight_fraction_leaf=0.1, splitter='best')"
   ]
  },
  {
   "cell_type": "code",
   "execution_count": 217,
   "metadata": {
    "id": "jDLjC7STqZR-",
    "outputId": "96bbd82d-7da1-4ea5-a7b7-8175220858aa"
   },
   "outputs": [
    {
     "name": "stdout",
     "output_type": "stream",
     "text": [
      "Duration: 0:00:00.607236\n"
     ]
    }
   ],
   "source": [
    "from datetime import datetime\n",
    "start_time = datetime.now()\n",
    "model = model.fit(X_train, y_train)\n",
    "end_time = datetime.now()\n",
    "print('Duration: {}'.format(end_time - start_time))"
   ]
  },
  {
   "cell_type": "code",
   "execution_count": 218,
   "metadata": {
    "id": "0f0SrtvnqZR-",
    "outputId": "4f460be0-3a4e-43ce-e1df-a0f885ac78e3"
   },
   "outputs": [
    {
     "data": {
      "image/png": "[encoded data removed]",
      "text/plain": [
       "<Figure size 800x800 with 1 Axes>"
      ]
     },
     "metadata": {},
     "output_type": "display_data"
    }
   ],
   "source": [
    "from sklearn.metrics import classification_report, confusion_matrix\n",
    "cm = confusion_matrix(y_test, model.predict(X_test))\n",
    "\n",
    "fig, ax = plt.subplots(figsize=(8, 8))\n",
    "ax.imshow(cm)\n",
    "ax.grid(False)\n",
    "ax.xaxis.set(ticks=(0, 1), ticklabels=('Predicted 0s', 'Predicted 1s'))\n",
    "ax.yaxis.set(ticks=(0, 1), ticklabels=('Actual 0s', 'Actual 1s'))\n",
    "ax.set_ylim(1.5, -0.5)\n",
    "for i in range(2):\n",
    "    for j in range(2):\n",
    "        ax.text(j, i, cm[i, j], ha='center', va='center', color='red')\n",
    "plt.show()"
   ]
  },
  {
   "cell_type": "code",
   "execution_count": 220,
   "metadata": {
    "id": "m0Eqxz4YqZR_",
    "outputId": "55401fd6-091e-4b59-ce66-49862a4216da"
   },
   "outputs": [
    {
     "name": "stdout",
     "output_type": "stream",
     "text": [
      "              precision    recall  f1-score   support\n",
      "\n",
      "         0.0       1.00      0.93      0.96    135580\n",
      "         1.0       0.14      0.97      0.25      1645\n",
      "\n",
      "    accuracy                           0.93    137225\n",
      "   macro avg       0.57      0.95      0.60    137225\n",
      "weighted avg       0.99      0.93      0.95    137225\n",
      "\n"
     ]
    }
   ],
   "source": [
    "print(classification_report(y_test, model.predict(X_test)))"
   ]
  },
  {
   "cell_type": "code",
   "execution_count": 221,
   "metadata": {
    "id": "ZtGL0TuwqZR_"
   },
   "outputs": [],
   "source": [
    "from sklearn.metrics import accuracy_score, average_precision_score, precision_score, recall_score\n",
    "y_predicted = model.predict(X_test)"
   ]
  },
  {
   "cell_type": "code",
   "execution_count": 222,
   "metadata": {
    "id": "rfxbLKgrqZR_",
    "outputId": "0940cab8-afd7-4f78-b57a-b25602563bf5"
   },
   "outputs": [
    {
     "name": "stdout",
     "output_type": "stream",
     "text": [
      "accuracy:  0.9285552924029878\n"
     ]
    }
   ],
   "source": [
    "print('accuracy: ', accuracy_score(y_test,y_predicted))"
   ]
  },
  {
   "cell_type": "code",
   "execution_count": 223,
   "metadata": {
    "id": "hSbtJFtRqZR_",
    "outputId": "1ac6b98c-2997-451e-f468-1a88b263b3e4"
   },
   "outputs": [
    {
     "name": "stdout",
     "output_type": "stream",
     "text": [
      "avg precision:  0.13719233679751383\n"
     ]
    }
   ],
   "source": [
    "print('avg precision: ', average_precision_score(y_test, y_predicted))"
   ]
  },
  {
   "cell_type": "code",
   "execution_count": 224,
   "metadata": {
    "id": "MCLM3W5FqZSA",
    "outputId": "ccff560f-e4c0-4638-d95c-8d9015845f7e"
   },
   "outputs": [
    {
     "name": "stdout",
     "output_type": "stream",
     "text": [
      "precision:  0.1407942238267148\n"
     ]
    }
   ],
   "source": [
    "print('precision: ' , precision_score(y_test, y_predicted))"
   ]
  },
  {
   "cell_type": "code",
   "execution_count": 225,
   "metadata": {
    "id": "5iqV_tmSqZSA",
    "outputId": "b0af30b4-5651-4037-de44-682b0ff37e21"
   },
   "outputs": [
    {
     "name": "stdout",
     "output_type": "stream",
     "text": [
      "recall:  0.9720364741641337\n"
     ]
    }
   ],
   "source": [
    "print('recall: ' ,recall_score(y_test, y_predicted))"
   ]
  },
  {
   "cell_type": "code",
   "execution_count": 227,
   "metadata": {},
   "outputs": [
    {
     "data": {
      "text/plain": [
       "['../model/classificationTree.pkl']"
      ]
     },
     "execution_count": 227,
     "metadata": {},
     "output_type": "execute_result"
    }
   ],
   "source": [
    "from sklearn.pipeline import Pipeline\n",
    "model = Pipeline([('scaler', scaled), ('tree', model)])\n",
    "joblib.dump(model, './model/classificationTree.pkl')\n",
    "\n",
    "s3 = boto3.resource('s3',endpoint_url = AWS_S3_ENDPOINT + \":9000\",\n",
    "                    aws_access_key_id=AWS_ACCESS_KEY_ID,\n",
    "                    aws_secret_access_key=AWS_SECRET_ACCESS_KEY)\n",
    " \n",
    "s3.Bucket(BUCKET).upload_file('./model/classificationTree.pkl', 'classificationTree.pkl')"
   ]
  }
 ],
 "metadata": {
  "colab": {
   "provenance": []
  },
  "kernelspec": {
   "display_name": "Python 3.9",
   "language": "python",
   "name": "python3"
  },
  "language_info": {
   "codemirror_mode": {
    "name": "ipython",
    "version": 3
   },
   "file_extension": ".py",
   "mimetype": "text/x-python",
   "name": "python",
   "nbconvert_exporter": "python",
   "pygments_lexer": "ipython3",
   "version": "3.9.6"
  }
 },
 "nbformat": 4,
 "nbformat_minor": 4
}
